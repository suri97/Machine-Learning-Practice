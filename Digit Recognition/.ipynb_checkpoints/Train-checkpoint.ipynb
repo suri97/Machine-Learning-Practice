{
 "cells": [
  {
   "cell_type": "code",
   "execution_count": 17,
   "metadata": {},
   "outputs": [],
   "source": [
    "import numpy as np\n",
    "import matplotlib.pyplot as plt\n",
    "%matplotlib inline\n",
    "import pandas as pd\n",
    "from keras.layers import Dense, Activation\n",
    "from keras.models import Sequential\n",
    "from keras.utils import np_utils"
   ]
  },
  {
   "cell_type": "code",
   "execution_count": 18,
   "metadata": {},
   "outputs": [
    {
     "name": "stdout",
     "output_type": "stream",
     "text": [
      "(17596, 785)\n"
     ]
    }
   ],
   "source": [
    "df = pd.read_csv('../../DataSets/mnist_train.csv')\n",
    "data = df.values\n",
    "print data.shape"
   ]
  },
  {
   "cell_type": "code",
   "execution_count": 19,
   "metadata": {},
   "outputs": [
    {
     "name": "stdout",
     "output_type": "stream",
     "text": [
      "(3000,) (3000, 784)\n",
      "[ 0.  1.  2.  3.  4.  5.  6.  7.  8.  9.]\n",
      "(3000, 10)\n"
     ]
    }
   ],
   "source": [
    "labels = data[:3000, 0]\n",
    "features = data[:3000, 1:]\n",
    "print labels.shape, features.shape\n",
    "print np.unique( labels )\n",
    "labels =  np_utils.to_categorical(labels)\n",
    "print labels.shape"
   ]
  },
  {
   "cell_type": "code",
   "execution_count": 20,
   "metadata": {},
   "outputs": [
    {
     "data": {
      "image/png": "[encoded data removed]",
      "text/plain": [
       "<matplotlib.figure.Figure at 0x11a2cffd0>"
      ]
     },
     "metadata": {},
     "output_type": "display_data"
    }
   ],
   "source": [
    "n = np.random.choice( features.shape[0] )\n",
    "img = features[n].reshape( (28,28) )\n",
    "plt.imshow( img, cmap='gray' )\n",
    "plt.show()"
   ]
  },
  {
   "cell_type": "code",
   "execution_count": 21,
   "metadata": {},
   "outputs": [
    {
     "name": "stdout",
     "output_type": "stream",
     "text": [
      "(2400, 784) (2400, 10) (600, 784) (600, 10)\n"
     ]
    }
   ],
   "source": [
    "split = int( 0.8*( features.shape[0] ) )\n",
    "train_features = features[ :split ]/255.0\n",
    "train_labels = labels[ :split ]\n",
    "test_features = features[ split: ]/255.0\n",
    "test_labels = labels[ split: ]\n",
    "\n",
    "print train_features.shape, train_labels.shape, test_features.shape, test_labels.shape"
   ]
  },
  {
   "cell_type": "code",
   "execution_count": 22,
   "metadata": {},
   "outputs": [],
   "source": [
    "model = Sequential()"
   ]
  },
  {
   "cell_type": "code",
   "execution_count": 23,
   "metadata": {},
   "outputs": [
    {
     "name": "stdout",
     "output_type": "stream",
     "text": [
      "____________________________________________________________________________________________________\n",
      "Layer (type)                     Output Shape          Param #     Connected to                     \n",
      "====================================================================================================\n",
      "dense_3 (Dense)                  (None, 128)           100480      dense_input_2[0][0]              \n",
      "____________________________________________________________________________________________________\n",
      "activation_3 (Activation)        (None, 128)           0           dense_3[0][0]                    \n",
      "____________________________________________________________________________________________________\n",
      "dense_4 (Dense)                  (None, 10)            1290        activation_3[0][0]               \n",
      "____________________________________________________________________________________________________\n",
      "activation_4 (Activation)        (None, 10)            0           dense_4[0][0]                    \n",
      "====================================================================================================\n",
      "Total params: 101,770\n",
      "Trainable params: 101,770\n",
      "Non-trainable params: 0\n",
      "____________________________________________________________________________________________________\n"
     ]
    }
   ],
   "source": [
    "model.add( Dense( 128, input_shape = (784,) ) )\n",
    "model.add( Activation('relu') )\n",
    "\n",
    "\n",
    "model.add( Dense( 10 ) )\n",
    "model.add( Activation('softmax') )\n",
    "\n",
    "model.summary()"
   ]
  },
  {
   "cell_type": "code",
   "execution_count": 24,
   "metadata": {},
   "outputs": [],
   "source": [
    "model.compile( optimizer='adam', loss = 'categorical_crossentropy', metrics=['accuracy'] )"
   ]
  },
  {
   "cell_type": "code",
   "execution_count": 25,
   "metadata": {},
   "outputs": [
    {
     "name": "stdout",
     "output_type": "stream",
     "text": [
      "Train on 2400 samples, validate on 600 samples\n",
      "Epoch 1/20\n",
      "2400/2400 [==============================] - 1s - loss: 0.8155 - acc: 0.7800 - val_loss: 0.4661 - val_acc: 0.8600\n",
      "Epoch 2/20\n",
      "2400/2400 [==============================] - 0s - loss: 0.3292 - acc: 0.9092 - val_loss: 0.3336 - val_acc: 0.9067\n",
      "Epoch 3/20\n",
      "2400/2400 [==============================] - 0s - loss: 0.2277 - acc: 0.9438 - val_loss: 0.3146 - val_acc: 0.9000\n",
      "Epoch 4/20\n",
      "2400/2400 [==============================] - 0s - loss: 0.1679 - acc: 0.9583 - val_loss: 0.2804 - val_acc: 0.9217\n",
      "Epoch 5/20\n",
      "2400/2400 [==============================] - 0s - loss: 0.1254 - acc: 0.9679 - val_loss: 0.2598 - val_acc: 0.9183\n",
      "Epoch 6/20\n",
      "2400/2400 [==============================] - 0s - loss: 0.0927 - acc: 0.9829 - val_loss: 0.2806 - val_acc: 0.9100\n",
      "Epoch 7/20\n",
      "2400/2400 [==============================] - 0s - loss: 0.0706 - acc: 0.9867 - val_loss: 0.2584 - val_acc: 0.92670.990\n",
      "Epoch 8/20\n",
      "2400/2400 [==============================] - 0s - loss: 0.0561 - acc: 0.9908 - val_loss: 0.2699 - val_acc: 0.9233\n",
      "Epoch 9/20\n",
      "2400/2400 [==============================] - 0s - loss: 0.0418 - acc: 0.9933 - val_loss: 0.2664 - val_acc: 0.9267\n",
      "Epoch 10/20\n",
      "2400/2400 [==============================] - 0s - loss: 0.0328 - acc: 0.9975 - val_loss: 0.2795 - val_acc: 0.9233\n",
      "Epoch 11/20\n",
      "2400/2400 [==============================] - 0s - loss: 0.0255 - acc: 0.9975 - val_loss: 0.2771 - val_acc: 0.9300\n",
      "Epoch 12/20\n",
      "2400/2400 [==============================] - 0s - loss: 0.0197 - acc: 0.9983 - val_loss: 0.3063 - val_acc: 0.9250\n",
      "Epoch 13/20\n",
      "2400/2400 [==============================] - 0s - loss: 0.0148 - acc: 0.9996 - val_loss: 0.2780 - val_acc: 0.9250\n",
      "Epoch 14/20\n",
      "2400/2400 [==============================] - 0s - loss: 0.0108 - acc: 1.0000 - val_loss: 0.2868 - val_acc: 0.9283.01\n",
      "Epoch 15/20\n",
      "2400/2400 [==============================] - 0s - loss: 0.0090 - acc: 1.0000 - val_loss: 0.2912 - val_acc: 0.9267\n",
      "Epoch 16/20\n",
      "2400/2400 [==============================] - 0s - loss: 0.0076 - acc: 1.0000 - val_loss: 0.2852 - val_acc: 0.9250\n",
      "Epoch 17/20\n",
      "2400/2400 [==============================] - 0s - loss: 0.0066 - acc: 1.0000 - val_loss: 0.2989 - val_acc: 0.9283\n",
      "Epoch 18/20\n",
      "2400/2400 [==============================] - 0s - loss: 0.0054 - acc: 1.0000 - val_loss: 0.3045 - val_acc: 0.9267\n",
      "Epoch 19/20\n",
      "2400/2400 [==============================] - 0s - loss: 0.0046 - acc: 1.0000 - val_loss: 0.3081 - val_acc: 0.9267\n",
      "Epoch 20/20\n",
      "2400/2400 [==============================] - 0s - loss: 0.0040 - acc: 1.0000 - val_loss: 0.3047 - val_acc: 0.9300\n"
     ]
    },
    {
     "data": {
      "text/plain": [
       "<keras.callbacks.History at 0x11ba19490>"
      ]
     },
     "execution_count": 25,
     "metadata": {},
     "output_type": "execute_result"
    }
   ],
   "source": [
    "model.fit( train_features, train_labels, batch_size=15, nb_epoch=20, validation_data=( test_features, test_labels )  )"
   ]
  },
  {
   "cell_type": "code",
   "execution_count": 26,
   "metadata": {},
   "outputs": [
    {
     "data": {
      "image/png": "[encoded data removed]",
      "text/plain": [
       "<matplotlib.figure.Figure at 0x11bb7bc10>"
      ]
     },
     "metadata": {},
     "output_type": "display_data"
    }
   ],
   "source": [
    "n = np.random.choice( features.shape[0] )\n",
    "img = features[n].reshape( (28,28) )\n",
    "plt.imshow( img, cmap='gray' )\n",
    "plt.show()\n"
   ]
  },
  {
   "cell_type": "code",
   "execution_count": 27,
   "metadata": {},
   "outputs": [
    {
     "name": "stdout",
     "output_type": "stream",
     "text": [
      "Predicted Value is 1 with confidence 99.3753969669\n",
      "Real Value is  1\n"
     ]
    }
   ],
   "source": [
    "predict_image = features[n].reshape( (-1,1) )\n",
    "predict_image = predict_image.T/255.0\n",
    "res = model.predict( predict_image, batch_size=15 )\n",
    "max_ind = res.argmax()\n",
    "print \"Predicted Value is\", max_ind, \"with confidence\", 100*res[0][max_ind]\n",
    "print \"Real Value is \", int(data[n][0])"
   ]
  },
  {
   "cell_type": "code",
   "execution_count": 28,
   "metadata": {},
   "outputs": [
    {
     "ename": "ImportError",
     "evalue": "No module named h5py",
     "output_type": "error",
     "traceback": [
      "\u001b[0;31m---------------------------------------------------------------------------\u001b[0m",
      "\u001b[0;31mImportError\u001b[0m                               Traceback (most recent call last)",
      "\u001b[0;32m<ipython-input-28-245ab4007367>\u001b[0m in \u001b[0;36m<module>\u001b[0;34m()\u001b[0m\n\u001b[0;32m----> 1\u001b[0;31m \u001b[0mmodel\u001b[0m\u001b[0;34m.\u001b[0m\u001b[0msave\u001b[0m\u001b[0;34m(\u001b[0m \u001b[0;34m'Digit_Recognition_Model.h5'\u001b[0m \u001b[0;34m)\u001b[0m\u001b[0;34m\u001b[0m\u001b[0m\n\u001b[0m",
      "\u001b[0;32m/usr/local/lib/python2.7/site-packages/keras/engine/topology.pyc\u001b[0m in \u001b[0;36msave\u001b[0;34m(self, filepath, overwrite)\u001b[0m\n\u001b[1;32m   2621\u001b[0m         '''\n\u001b[1;32m   2622\u001b[0m         \u001b[0;32mfrom\u001b[0m \u001b[0;34m.\u001b[0m\u001b[0;34m.\u001b[0m\u001b[0mmodels\u001b[0m \u001b[0;32mimport\u001b[0m \u001b[0msave_model\u001b[0m\u001b[0;34m\u001b[0m\u001b[0m\n\u001b[0;32m-> 2623\u001b[0;31m         \u001b[0msave_model\u001b[0m\u001b[0;34m(\u001b[0m\u001b[0mself\u001b[0m\u001b[0;34m,\u001b[0m \u001b[0mfilepath\u001b[0m\u001b[0;34m,\u001b[0m \u001b[0moverwrite\u001b[0m\u001b[0;34m)\u001b[0m\u001b[0;34m\u001b[0m\u001b[0m\n\u001b[0m\u001b[1;32m   2624\u001b[0m \u001b[0;34m\u001b[0m\u001b[0m\n\u001b[1;32m   2625\u001b[0m     \u001b[0;32mdef\u001b[0m \u001b[0msave_weights\u001b[0m\u001b[0;34m(\u001b[0m\u001b[0mself\u001b[0m\u001b[0;34m,\u001b[0m \u001b[0mfilepath\u001b[0m\u001b[0;34m,\u001b[0m \u001b[0moverwrite\u001b[0m\u001b[0;34m=\u001b[0m\u001b[0mTrue\u001b[0m\u001b[0;34m)\u001b[0m\u001b[0;34m:\u001b[0m\u001b[0;34m\u001b[0m\u001b[0m\n",
      "\u001b[0;32m/usr/local/lib/python2.7/site-packages/keras/models.pyc\u001b[0m in \u001b[0;36msave_model\u001b[0;34m(model, filepath, overwrite)\u001b[0m\n\u001b[1;32m     37\u001b[0m         \u001b[0;32mraise\u001b[0m \u001b[0mTypeError\u001b[0m\u001b[0;34m(\u001b[0m\u001b[0;34m'Not JSON Serializable:'\u001b[0m\u001b[0;34m,\u001b[0m \u001b[0mobj\u001b[0m\u001b[0;34m)\u001b[0m\u001b[0;34m\u001b[0m\u001b[0m\n\u001b[1;32m     38\u001b[0m \u001b[0;34m\u001b[0m\u001b[0m\n\u001b[0;32m---> 39\u001b[0;31m     \u001b[0;32mimport\u001b[0m \u001b[0mh5py\u001b[0m\u001b[0;34m\u001b[0m\u001b[0m\n\u001b[0m\u001b[1;32m     40\u001b[0m     \u001b[0;32mfrom\u001b[0m \u001b[0mkeras\u001b[0m \u001b[0;32mimport\u001b[0m \u001b[0m__version__\u001b[0m \u001b[0;32mas\u001b[0m \u001b[0mkeras_version\u001b[0m\u001b[0;34m\u001b[0m\u001b[0m\n\u001b[1;32m     41\u001b[0m \u001b[0;34m\u001b[0m\u001b[0m\n",
      "\u001b[0;31mImportError\u001b[0m: No module named h5py"
     ]
    }
   ],
   "source": [
    "model.save( 'Digit_Recognition_Model.h5' )"
   ]
  }
 ],
 "metadata": {
  "kernelspec": {
   "display_name": "Python 2",
   "language": "python",
   "name": "python2"
  },
  "language_info": {
   "codemirror_mode": {
    "name": "ipython",
    "version": 2
   },
   "file_extension": ".py",
   "mimetype": "text/x-python",
   "name": "python",
   "nbconvert_exporter": "python",
   "pygments_lexer": "ipython2",
   "version": "2.7.14"
  }
 },
 "nbformat": 4,
 "nbformat_minor": 2
}
