{
 "cells": [
  {
   "cell_type": "code",
   "execution_count": 1,
   "metadata": {},
   "outputs": [
    {
     "name": "stderr",
     "output_type": "stream",
     "text": [
      "Using TensorFlow backend.\n"
     ]
    }
   ],
   "source": [
    "import numpy as np\n",
    "import matplotlib.pyplot as plt\n",
    "%matplotlib inline\n",
    "import pandas as pd\n",
    "from keras.layers import Dense, Activation\n",
    "from keras.models import Sequential\n",
    "from keras.utils import np_utils"
   ]
  },
  {
   "cell_type": "code",
   "execution_count": 2,
   "metadata": {},
   "outputs": [
    {
     "name": "stdout",
     "output_type": "stream",
     "text": [
      "(17596, 785)\n"
     ]
    }
   ],
   "source": [
    "df = pd.read_csv('../../DataSets/mnist_train.csv')\n",
    "data = df.values\n",
    "print data.shape"
   ]
  },
  {
   "cell_type": "code",
   "execution_count": 3,
   "metadata": {},
   "outputs": [
    {
     "name": "stdout",
     "output_type": "stream",
     "text": [
      "(6000,) (6000, 784)\n",
      "[ 0.  1.  2.  3.  4.  5.  6.  7.  8.  9.]\n",
      "(6000, 10)\n"
     ]
    }
   ],
   "source": [
    "labels = data[:6000, 0]\n",
    "features = data[:6000, 1:]\n",
    "print labels.shape, features.shape\n",
    "print np.unique( labels )\n",
    "labels =  np_utils.to_categorical(labels)\n",
    "print labels.shape"
   ]
  },
  {
   "cell_type": "code",
   "execution_count": 4,
   "metadata": {},
   "outputs": [
    {
     "data": {
      "image/png": "[encoded data removed]",
      "text/plain": [
       "<matplotlib.figure.Figure at 0x11e517ed0>"
      ]
     },
     "metadata": {},
     "output_type": "display_data"
    }
   ],
   "source": [
    "n = np.random.choice( features.shape[0] )\n",
    "img = features[n].reshape( (28,28) )\n",
    "plt.imshow( img, cmap='gray' )\n",
    "plt.show()"
   ]
  },
  {
   "cell_type": "code",
   "execution_count": 5,
   "metadata": {},
   "outputs": [
    {
     "name": "stdout",
     "output_type": "stream",
     "text": [
      "(4800, 784) (4800, 10) (1200, 784) (1200, 10)\n"
     ]
    }
   ],
   "source": [
    "split = int( 0.8*( features.shape[0] ) )\n",
    "train_features = features[ :split ]/255.0\n",
    "train_labels = labels[ :split ]\n",
    "test_features = features[ split: ]/255.0\n",
    "test_labels = labels[ split: ]\n",
    "\n",
    "print train_features.shape, train_labels.shape, test_features.shape, test_labels.shape"
   ]
  },
  {
   "cell_type": "code",
   "execution_count": 6,
   "metadata": {},
   "outputs": [],
   "source": [
    "model = Sequential()"
   ]
  },
  {
   "cell_type": "code",
   "execution_count": 7,
   "metadata": {},
   "outputs": [
    {
     "name": "stdout",
     "output_type": "stream",
     "text": [
      "____________________________________________________________________________________________________\n",
      "Layer (type)                     Output Shape          Param #     Connected to                     \n",
      "====================================================================================================\n",
      "dense_1 (Dense)                  (None, 128)           100480      dense_input_1[0][0]              \n",
      "____________________________________________________________________________________________________\n",
      "activation_1 (Activation)        (None, 128)           0           dense_1[0][0]                    \n",
      "____________________________________________________________________________________________________\n",
      "dense_2 (Dense)                  (None, 10)            1290        activation_1[0][0]               \n",
      "____________________________________________________________________________________________________\n",
      "activation_2 (Activation)        (None, 10)            0           dense_2[0][0]                    \n",
      "====================================================================================================\n",
      "Total params: 101,770\n",
      "Trainable params: 101,770\n",
      "Non-trainable params: 0\n",
      "____________________________________________________________________________________________________\n"
     ]
    }
   ],
   "source": [
    "model.add( Dense( 128, input_shape = (784,) ) )\n",
    "model.add( Activation('relu') )\n",
    "\n",
    "\n",
    "model.add( Dense( 10 ) )\n",
    "model.add( Activation('softmax') )\n",
    "\n",
    "model.summary()"
   ]
  },
  {
   "cell_type": "code",
   "execution_count": 8,
   "metadata": {},
   "outputs": [],
   "source": [
    "model.compile( optimizer='adam', loss = 'categorical_crossentropy', metrics=['accuracy'] )"
   ]
  },
  {
   "cell_type": "code",
   "execution_count": 9,
   "metadata": {},
   "outputs": [
    {
     "name": "stdout",
     "output_type": "stream",
     "text": [
      "Train on 4800 samples, validate on 1200 samples\n",
      "Epoch 1/20\n",
      "4800/4800 [==============================] - 2s - loss: 0.5890 - acc: 0.8394 - val_loss: 0.3613 - val_acc: 0.8958\n",
      "Epoch 2/20\n",
      "4800/4800 [==============================] - 1s - loss: 0.2580 - acc: 0.9254 - val_loss: 0.2909 - val_acc: 0.9175\n",
      "Epoch 3/20\n",
      "4800/4800 [==============================] - 1s - loss: 0.1789 - acc: 0.9490 - val_loss: 0.2471 - val_acc: 0.9292\n",
      "Epoch 4/20\n",
      "4800/4800 [==============================] - 1s - loss: 0.1287 - acc: 0.9656 - val_loss: 0.2558 - val_acc: 0.9192\n",
      "Epoch 5/20\n",
      "4800/4800 [==============================] - 1s - loss: 0.0978 - acc: 0.9738 - val_loss: 0.2031 - val_acc: 0.9400\n",
      "Epoch 6/20\n",
      "4800/4800 [==============================] - 1s - loss: 0.0704 - acc: 0.9829 - val_loss: 0.1951 - val_acc: 0.9417\n",
      "Epoch 7/20\n",
      "4800/4800 [==============================] - 1s - loss: 0.0508 - acc: 0.9902 - val_loss: 0.1975 - val_acc: 0.9483\n",
      "Epoch 8/20\n",
      "4800/4800 [==============================] - 1s - loss: 0.0405 - acc: 0.9921 - val_loss: 0.2079 - val_acc: 0.9383 - loss: 0.0383 - acc: - ETA: 0s\n",
      "Epoch 9/20\n",
      "4800/4800 [==============================] - 1s - loss: 0.0296 - acc: 0.9956 - val_loss: 0.1912 - val_acc: 0.9442\n",
      "Epoch 10/20\n",
      "4800/4800 [==============================] - 1s - loss: 0.0204 - acc: 0.9981 - val_loss: 0.1917 - val_acc: 0.9475\n",
      "Epoch 11/20\n",
      "4800/4800 [==============================] - 1s - loss: 0.0154 - acc: 0.9981 - val_loss: 0.1861 - val_acc: 0.9483\n",
      "Epoch 12/20\n",
      "4800/4800 [==============================] - 1s - loss: 0.0114 - acc: 0.9990 - val_loss: 0.1944 - val_acc: 0.9483\n",
      "Epoch 13/20\n",
      "4800/4800 [==============================] - 1s - loss: 0.0077 - acc: 1.0000 - val_loss: 0.2023 - val_acc: 0.9467\n",
      "Epoch 14/20\n",
      "4800/4800 [==============================] - 1s - loss: 0.0077 - acc: 0.9996 - val_loss: 0.2041 - val_acc: 0.9492\n",
      "Epoch 15/20\n",
      "4800/4800 [==============================] - 1s - loss: 0.0049 - acc: 1.0000 - val_loss: 0.1977 - val_acc: 0.9550\n",
      "Epoch 16/20\n",
      "4800/4800 [==============================] - 1s - loss: 0.0033 - acc: 1.0000 - val_loss: 0.2034 - val_acc: 0.9542\n",
      "Epoch 17/20\n",
      "4800/4800 [==============================] - 1s - loss: 0.0026 - acc: 1.0000 - val_loss: 0.2101 - val_acc: 0.9533\n",
      "Epoch 18/20\n",
      "4800/4800 [==============================] - 1s - loss: 0.0021 - acc: 1.0000 - val_loss: 0.2120 - val_acc: 0.9492\n",
      "Epoch 19/20\n",
      "4800/4800 [==============================] - 1s - loss: 0.0018 - acc: 1.0000 - val_loss: 0.2084 - val_acc: 0.9517\n",
      "Epoch 20/20\n",
      "4800/4800 [==============================] - 1s - loss: 0.0015 - acc: 1.0000 - val_loss: 0.2132 - val_acc: 0.9533\n"
     ]
    },
    {
     "data": {
      "text/plain": [
       "<keras.callbacks.History at 0x11ecd8a50>"
      ]
     },
     "execution_count": 9,
     "metadata": {},
     "output_type": "execute_result"
    }
   ],
   "source": [
    "model.fit( train_features, train_labels, batch_size=15, nb_epoch=20, validation_data=( test_features, test_labels )  )"
   ]
  },
  {
   "cell_type": "code",
   "execution_count": 23,
   "metadata": {},
   "outputs": [
    {
     "data": {
      "image/png": "[encoded data removed]",
      "text/plain": [
       "<matplotlib.figure.Figure at 0x11f26b710>"
      ]
     },
     "metadata": {},
     "output_type": "display_data"
    }
   ],
   "source": [
    "n = np.random.choice( features.shape[0] )\n",
    "img = features[n].reshape( (28,28) )\n",
    "plt.imshow( img, cmap='gray' )\n",
    "plt.show()\n"
   ]
  },
  {
   "cell_type": "code",
   "execution_count": 24,
   "metadata": {},
   "outputs": [
    {
     "name": "stdout",
     "output_type": "stream",
     "text": [
      "Predicted Value is 0 with confidence 99.958974123\n",
      "Real Value is  0\n"
     ]
    }
   ],
   "source": [
    "predict_image = features[n].reshape( (-1,1) )\n",
    "predict_image = predict_image.T/255.0\n",
    "res = model.predict( predict_image, batch_size=15 )\n",
    "max_ind = res.argmax()\n",
    "print \"Predicted Value is\", max_ind, \"with confidence\", 100*res[0][max_ind]\n",
    "print \"Real Value is \", int(data[n][0])"
   ]
  },
  {
   "cell_type": "code",
   "execution_count": 12,
   "metadata": {},
   "outputs": [],
   "source": [
    "#model.save( 'Digit_Recognition_Model.h5' )"
   ]
  }
 ],
 "metadata": {
  "kernelspec": {
   "display_name": "Python 2",
   "language": "python",
   "name": "python2"
  },
  "language_info": {
   "codemirror_mode": {
    "name": "ipython",
    "version": 2
   },
   "file_extension": ".py",
   "mimetype": "text/x-python",
   "name": "python",
   "nbconvert_exporter": "python",
   "pygments_lexer": "ipython2",
   "version": "2.7.14"
  }
 },
 "nbformat": 4,
 "nbformat_minor": 2
}
