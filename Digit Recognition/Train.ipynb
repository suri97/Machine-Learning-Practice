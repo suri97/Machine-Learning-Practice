{
 "cells": [
  {
   "cell_type": "code",
   "execution_count": 1,
   "metadata": {},
   "outputs": [
    {
     "name": "stderr",
     "output_type": "stream",
     "text": [
      "Using TensorFlow backend.\n"
     ]
    }
   ],
   "source": [
    "import numpy as np\n",
    "import matplotlib.pyplot as plt\n",
    "%matplotlib inline\n",
    "import pandas as pd\n",
    "from keras.layers import Dense, Activation\n",
    "from keras.models import Sequential\n",
    "from keras.utils import np_utils"
   ]
  },
  {
   "cell_type": "code",
   "execution_count": 2,
   "metadata": {},
   "outputs": [
    {
     "name": "stdout",
     "output_type": "stream",
     "text": [
      "(17596, 785)\n"
     ]
    }
   ],
   "source": [
    "df = pd.read_csv('../../DataSets/mnist_train.csv')\n",
    "data = df.values\n",
    "print data.shape"
   ]
  },
  {
   "cell_type": "code",
   "execution_count": 3,
   "metadata": {},
   "outputs": [
    {
     "name": "stdout",
     "output_type": "stream",
     "text": [
      "(3000,) (3000, 784)\n",
      "[ 0.  1.  2.  3.  4.  5.  6.  7.  8.  9.]\n",
      "(3000, 10)\n"
     ]
    }
   ],
   "source": [
    "labels = data[:3000, 0]\n",
    "features = data[:3000, 1:]\n",
    "print labels.shape, features.shape\n",
    "print np.unique( labels )\n",
    "labels =  np_utils.to_categorical(labels)\n",
    "print labels.shape"
   ]
  },
  {
   "cell_type": "code",
   "execution_count": 4,
   "metadata": {},
   "outputs": [
    {
     "data": {
      "image/png": "[encoded data removed]",
      "text/plain": [
       "<matplotlib.figure.Figure at 0x1108aded0>"
      ]
     },
     "metadata": {},
     "output_type": "display_data"
    }
   ],
   "source": [
    "n = np.random.choice( features.shape[0] )\n",
    "img = features[n].reshape( (28,28) )\n",
    "plt.imshow( img, cmap='gray' )\n",
    "plt.show()"
   ]
  },
  {
   "cell_type": "code",
   "execution_count": 5,
   "metadata": {},
   "outputs": [
    {
     "name": "stdout",
     "output_type": "stream",
     "text": [
      "(2400, 784) (2400, 10) (600, 784) (600, 10)\n"
     ]
    }
   ],
   "source": [
    "split = int( 0.8*( features.shape[0] ) )\n",
    "train_features = features[ :split ]/255.0\n",
    "train_labels = labels[ :split ]\n",
    "test_features = features[ split: ]/255.0\n",
    "test_labels = labels[ split: ]\n",
    "\n",
    "print train_features.shape, train_labels.shape, test_features.shape, test_labels.shape"
   ]
  },
  {
   "cell_type": "code",
   "execution_count": 6,
   "metadata": {},
   "outputs": [],
   "source": [
    "model = Sequential()"
   ]
  },
  {
   "cell_type": "code",
   "execution_count": 7,
   "metadata": {},
   "outputs": [
    {
     "name": "stdout",
     "output_type": "stream",
     "text": [
      "____________________________________________________________________________________________________\n",
      "Layer (type)                     Output Shape          Param #     Connected to                     \n",
      "====================================================================================================\n",
      "dense_1 (Dense)                  (None, 128)           100480      dense_input_1[0][0]              \n",
      "____________________________________________________________________________________________________\n",
      "activation_1 (Activation)        (None, 128)           0           dense_1[0][0]                    \n",
      "____________________________________________________________________________________________________\n",
      "dense_2 (Dense)                  (None, 10)            1290        activation_1[0][0]               \n",
      "____________________________________________________________________________________________________\n",
      "activation_2 (Activation)        (None, 10)            0           dense_2[0][0]                    \n",
      "====================================================================================================\n",
      "Total params: 101,770\n",
      "Trainable params: 101,770\n",
      "Non-trainable params: 0\n",
      "____________________________________________________________________________________________________\n"
     ]
    }
   ],
   "source": [
    "model.add( Dense( 128, input_shape = (784,) ) )\n",
    "model.add( Activation('relu') )\n",
    "\n",
    "\n",
    "model.add( Dense( 10 ) )\n",
    "model.add( Activation('softmax') )\n",
    "\n",
    "model.summary()"
   ]
  },
  {
   "cell_type": "code",
   "execution_count": 8,
   "metadata": {},
   "outputs": [],
   "source": [
    "model.compile( optimizer='adam', loss = 'categorical_crossentropy', metrics=['accuracy'] )"
   ]
  },
  {
   "cell_type": "code",
   "execution_count": 9,
   "metadata": {},
   "outputs": [
    {
     "name": "stdout",
     "output_type": "stream",
     "text": [
      "Train on 2400 samples, validate on 600 samples\n",
      "Epoch 1/20\n",
      "2400/2400 [==============================] - 1s - loss: 0.8059 - acc: 0.7754 - val_loss: 0.4230 - val_acc: 0.8783\n",
      "Epoch 2/20\n",
      "2400/2400 [==============================] - 0s - loss: 0.3262 - acc: 0.9071 - val_loss: 0.3547 - val_acc: 0.8967\n",
      "Epoch 3/20\n",
      "2400/2400 [==============================] - 0s - loss: 0.2357 - acc: 0.9363 - val_loss: 0.3102 - val_acc: 0.9100\n",
      "Epoch 4/20\n",
      "2400/2400 [==============================] - 0s - loss: 0.1740 - acc: 0.9563 - val_loss: 0.2990 - val_acc: 0.9217\n",
      "Epoch 5/20\n",
      "2400/2400 [==============================] - 0s - loss: 0.1351 - acc: 0.9675 - val_loss: 0.2920 - val_acc: 0.9100\n",
      "Epoch 6/20\n",
      "2400/2400 [==============================] - 0s - loss: 0.1006 - acc: 0.9767 - val_loss: 0.2680 - val_acc: 0.9233\n",
      "Epoch 7/20\n",
      "2400/2400 [==============================] - 0s - loss: 0.0844 - acc: 0.9829 - val_loss: 0.2654 - val_acc: 0.9267\n",
      "Epoch 8/20\n",
      "2400/2400 [==============================] - 0s - loss: 0.0587 - acc: 0.9904 - val_loss: 0.2639 - val_acc: 0.9217\n",
      "Epoch 9/20\n",
      "2400/2400 [==============================] - 0s - loss: 0.0482 - acc: 0.9929 - val_loss: 0.2666 - val_acc: 0.9233\n",
      "Epoch 10/20\n",
      "2400/2400 [==============================] - 0s - loss: 0.0351 - acc: 0.9975 - val_loss: 0.2670 - val_acc: 0.9283\n",
      "Epoch 11/20\n",
      "2400/2400 [==============================] - 0s - loss: 0.0281 - acc: 0.9979 - val_loss: 0.2678 - val_acc: 0.9350\n",
      "Epoch 12/20\n",
      "2400/2400 [==============================] - 0s - loss: 0.0212 - acc: 0.9992 - val_loss: 0.2679 - val_acc: 0.9333\n",
      "Epoch 13/20\n",
      "2400/2400 [==============================] - 0s - loss: 0.0167 - acc: 0.9996 - val_loss: 0.2669 - val_acc: 0.9367\n",
      "Epoch 14/20\n",
      "2400/2400 [==============================] - 0s - loss: 0.0121 - acc: 1.0000 - val_loss: 0.2686 - val_acc: 0.9383\n",
      "Epoch 15/20\n",
      "2400/2400 [==============================] - 0s - loss: 0.0096 - acc: 1.0000 - val_loss: 0.2770 - val_acc: 0.9317\n",
      "Epoch 16/20\n",
      "2400/2400 [==============================] - 0s - loss: 0.0087 - acc: 1.0000 - val_loss: 0.2787 - val_acc: 0.9283\n",
      "Epoch 17/20\n",
      "2400/2400 [==============================] - 0s - loss: 0.0070 - acc: 1.0000 - val_loss: 0.2775 - val_acc: 0.9300\n",
      "Epoch 18/20\n",
      "2400/2400 [==============================] - 0s - loss: 0.0060 - acc: 1.0000 - val_loss: 0.2831 - val_acc: 0.9300\n",
      "Epoch 19/20\n",
      "2400/2400 [==============================] - 0s - loss: 0.0051 - acc: 1.0000 - val_loss: 0.2916 - val_acc: 0.9317\n",
      "Epoch 20/20\n",
      "2400/2400 [==============================] - 0s - loss: 0.0043 - acc: 1.0000 - val_loss: 0.2901 - val_acc: 0.9283\n"
     ]
    },
    {
     "data": {
      "text/plain": [
       "<keras.callbacks.History at 0x118641790>"
      ]
     },
     "execution_count": 9,
     "metadata": {},
     "output_type": "execute_result"
    }
   ],
   "source": [
    "model.fit( train_features, train_labels, batch_size=15, nb_epoch=20, validation_data=( test_features, test_labels )  )"
   ]
  },
  {
   "cell_type": "code",
   "execution_count": 10,
   "metadata": {},
   "outputs": [
    {
     "data": {
      "image/png": "[encoded data removed]",
      "text/plain": [
       "<matplotlib.figure.Figure at 0x1187eb9d0>"
      ]
     },
     "metadata": {},
     "output_type": "display_data"
    }
   ],
   "source": [
    "n = np.random.choice( features.shape[0] )\n",
    "img = features[n].reshape( (28,28) )\n",
    "plt.imshow( img, cmap='gray' )\n",
    "plt.show()\n"
   ]
  },
  {
   "cell_type": "code",
   "execution_count": 11,
   "metadata": {},
   "outputs": [
    {
     "name": "stdout",
     "output_type": "stream",
     "text": [
      "Predicted Value is 8 with confidence 99.8290002346\n",
      "Real Value is  8\n"
     ]
    }
   ],
   "source": [
    "predict_image = features[n].reshape( (-1,1) )\n",
    "predict_image = predict_image.T/255.0\n",
    "res = model.predict( predict_image, batch_size=15 )\n",
    "max_ind = res.argmax()\n",
    "print \"Predicted Value is\", max_ind, \"with confidence\", 100*res[0][max_ind]\n",
    "print \"Real Value is \", int(data[n][0])"
   ]
  },
  {
   "cell_type": "code",
   "execution_count": 12,
   "metadata": {},
   "outputs": [],
   "source": [
    "#model.save( 'Digit_Recognition_Model.h5' )"
   ]
  }
 ],
 "metadata": {
  "kernelspec": {
   "display_name": "Python 2",
   "language": "python",
   "name": "python2"
  },
  "language_info": {
   "codemirror_mode": {
    "name": "ipython",
    "version": 2
   },
   "file_extension": ".py",
   "mimetype": "text/x-python",
   "name": "python",
   "nbconvert_exporter": "python",
   "pygments_lexer": "ipython2",
   "version": "2.7.14"
  }
 },
 "nbformat": 4,
 "nbformat_minor": 2
}
