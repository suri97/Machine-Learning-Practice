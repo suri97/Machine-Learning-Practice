{
 "cells": [
  {
   "cell_type": "code",
   "execution_count": 12,
   "metadata": {},
   "outputs": [],
   "source": [
    "import numpy as np\n",
    "import matplotlib.pyplot as plt\n",
    "%matplotlib inline\n",
    "import pandas as pd\n",
    "from keras.models import load_model"
   ]
  },
  {
   "cell_type": "code",
   "execution_count": 13,
   "metadata": {},
   "outputs": [
    {
     "name": "stdout",
     "output_type": "stream",
     "text": [
      "(17596, 785)\n"
     ]
    }
   ],
   "source": [
    "df = pd.read_csv( '../../DataSets/mnist_train.csv' )\n",
    "data = df.values\n",
    "print data.shape"
   ]
  },
  {
   "cell_type": "code",
   "execution_count": 14,
   "metadata": {},
   "outputs": [],
   "source": [
    "model = load_model( 'Digit_Recognition_Model.h5' )"
   ]
  },
  {
   "cell_type": "code",
   "execution_count": 15,
   "metadata": {},
   "outputs": [
    {
     "data": {
      "image/png": "[encoded data removed]",
      "text/plain": [
       "<matplotlib.figure.Figure at 0x1137543d0>"
      ]
     },
     "metadata": {},
     "output_type": "display_data"
    }
   ],
   "source": [
    "n = np.random.choice( data.shape[0] )\n",
    "img = data[n][1:].reshape( (28,28) )\n",
    "plt.imshow( img, cmap='gray' )\n",
    "plt.show()"
   ]
  },
  {
   "cell_type": "code",
   "execution_count": 16,
   "metadata": {},
   "outputs": [
    {
     "name": "stdout",
     "output_type": "stream",
     "text": [
      "Predicted Value is 5 with confidence 86.4057481289\n",
      "Real Value is  5\n"
     ]
    }
   ],
   "source": [
    "predict_image = data[n][1:].reshape( (-1,1) )\n",
    "predict_image = predict_image.T/255.0\n",
    "res = model.predict( predict_image, batch_size=15 )\n",
    "max_ind = res.argmax()\n",
    "print \"Predicted Value is\", max_ind, \"with confidence\", 100*res[0][max_ind]\n",
    "print \"Real Value is \", int(data[n][0])"
   ]
  }
 ],
 "metadata": {
  "kernelspec": {
   "display_name": "Python 2",
   "language": "python",
   "name": "python2"
  },
  "language_info": {
   "codemirror_mode": {
    "name": "ipython",
    "version": 2
   },
   "file_extension": ".py",
   "mimetype": "text/x-python",
   "name": "python",
   "nbconvert_exporter": "python",
   "pygments_lexer": "ipython2",
   "version": "2.7.14"
  }
 },
 "nbformat": 4,
 "nbformat_minor": 2
}
