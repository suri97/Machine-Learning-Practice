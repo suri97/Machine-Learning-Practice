{
 "cells": [
  {
   "cell_type": "code",
   "execution_count": 1,
   "metadata": {},
   "outputs": [
    {
     "name": "stderr",
     "output_type": "stream",
     "text": [
      "Using TensorFlow backend.\n"
     ]
    }
   ],
   "source": [
    "import numpy as np\n",
    "import matplotlib.pyplot as plt\n",
    "%matplotlib inline\n",
    "import pandas as pd\n",
    "from keras.models import load_model"
   ]
  },
  {
   "cell_type": "code",
   "execution_count": 59,
   "metadata": {},
   "outputs": [
    {
     "name": "stdout",
     "output_type": "stream",
     "text": [
      "(9999, 785)\n"
     ]
    }
   ],
   "source": [
    "df = pd.read_csv( '../../DataSets/mnist_test.csv' )\n",
    "data = df.values\n",
    "print data.shape"
   ]
  },
  {
   "cell_type": "code",
   "execution_count": 102,
   "metadata": {},
   "outputs": [],
   "source": [
    "model = load_model( 'DigitRecognition.h5' )"
   ]
  },
  {
   "cell_type": "code",
   "execution_count": 103,
   "metadata": {},
   "outputs": [
    {
     "data": {
      "image/png": "[encoded data removed]",
      "text/plain": [
       "<matplotlib.figure.Figure at 0x11cee8f50>"
      ]
     },
     "metadata": {},
     "output_type": "display_data"
    }
   ],
   "source": [
    "n = np.random.choice( data.shape[0] )\n",
    "img = data[n,1:].reshape( (28,28) )\n",
    "plt.imshow( img, cmap='gray' )\n",
    "plt.show()"
   ]
  },
  {
   "cell_type": "code",
   "execution_count": 104,
   "metadata": {},
   "outputs": [
    {
     "name": "stdout",
     "output_type": "stream",
     "text": [
      "(1, 28, 28, 1)\n"
     ]
    }
   ],
   "source": [
    "predict_image = data[n,1:].reshape( (-1,28,28,1) )\n",
    "predict_image = predict_image/255.0\n",
    "print predict_image.shape"
   ]
  },
  {
   "cell_type": "code",
   "execution_count": 105,
   "metadata": {},
   "outputs": [
    {
     "name": "stdout",
     "output_type": "stream",
     "text": [
      "Predicted Value is 7 with confidence 99.9970674515\n",
      "Real Value is  7\n"
     ]
    }
   ],
   "source": [
    "res = model.predict( predict_image, batch_size=20 )\n",
    "max_ind = res.argmax()\n",
    "print \"Predicted Value is\", max_ind, \"with confidence\", 100*res[0,max_ind]\n",
    "print \"Real Value is \", int(data[n,0])"
   ]
  },
  {
   "cell_type": "code",
   "execution_count": 106,
   "metadata": {},
   "outputs": [],
   "source": [
    "score = 0.0\n",
    "for i in range(data.shape[0]):\n",
    "    predict_image = data[i,1:].reshape( (-1,28,28,1) )\n",
    "    predict_image = predict_image/255.0\n",
    "    res = model.predict( predict_image, batch_size=20 )\n",
    "    score += res.argmax() == int(data[i,0])\n",
    "\n",
    "score = score/data.shape[0]"
   ]
  },
  {
   "cell_type": "code",
   "execution_count": 107,
   "metadata": {},
   "outputs": [
    {
     "name": "stdout",
     "output_type": "stream",
     "text": [
      "98.99989999\n"
     ]
    }
   ],
   "source": [
    "print score*100"
   ]
  },
  {
   "cell_type": "code",
   "execution_count": null,
   "metadata": {},
   "outputs": [],
   "source": []
  }
 ],
 "metadata": {
  "kernelspec": {
   "display_name": "Python 2",
   "language": "python",
   "name": "python2"
  },
  "language_info": {
   "codemirror_mode": {
    "name": "ipython",
    "version": 2
   },
   "file_extension": ".py",
   "mimetype": "text/x-python",
   "name": "python",
   "nbconvert_exporter": "python",
   "pygments_lexer": "ipython2",
   "version": "2.7.14"
  }
 },
 "nbformat": 4,
 "nbformat_minor": 2
}
