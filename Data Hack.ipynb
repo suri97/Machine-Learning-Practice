{
 "cells": [
  {
   "cell_type": "code",
   "execution_count": 437,
   "metadata": {},
   "outputs": [],
   "source": [
    "import numpy as np\n",
    "import pandas as pd"
   ]
  },
  {
   "cell_type": "markdown",
   "metadata": {},
   "source": [
    "## Data Preprocessing"
   ]
  },
  {
   "cell_type": "code",
   "execution_count": 455,
   "metadata": {},
   "outputs": [
    {
     "name": "stdout",
     "output_type": "stream",
     "text": [
      "      id                            game          white          black  \\\n",
      "0  24843       \"Sillycon\" vs \"Danyboyfr\"       Sillycon      Danyboyfr   \n",
      "1  18981   \"cagliari\" vs \"Knightsmasher\"       cagliari  Knightsmasher   \n",
      "2  24251    \"sylwild\" vs \"Knightsmasher\"        sylwild  Knightsmasher   \n",
      "3  35737    \"archonpaladin\" vs \"IFDThor\"  archonpaladin        IFDThor   \n",
      "4  34345           \"sparse\" vs \"IFDThor\"         sparse        IFDThor   \n",
      "\n",
      "   white_elo  black_elo  white_rd  black_rd  whiteiscomp  blackiscomp  \\\n",
      "0       2391       1706      39.8     324.9         True        False   \n",
      "1       1716       2611     341.5      61.1        False         True   \n",
      "2       1736       2319      45.3      46.1        False         True   \n",
      "3       1803       2260      38.9      16.3        False         True   \n",
      "4       1884       2184      28.0      16.3        False         True   \n",
      "\n",
      "  timecontrol  date      time white_clock black_clock  eco  plycount  \\\n",
      "0       900+0   NaN  12:35:00     15:00.0     15:00.0  B53        45   \n",
      "1        60+0   NaN  05:13:00     01:00.0     01:00.0  C42        30   \n",
      "2       900+0   NaN  12:18:00     15:00.0     15:00.0  B00         1   \n",
      "3       300+0   NaN  09:30:00     05:00.0     05:00.0  B10        56   \n",
      "4       300+0   NaN  18:40:00     05:00.0     05:00.0  B18        58   \n",
      "\n",
      "             commentaries                                              moves  \n",
      "0        Black checkmated  1. e4 c6 2. Nf3 d6 3. d4 b5 4. Bd3 a5 5. O-O N...  \n",
      "1  White forfeits on time  1. e4 e5 2. d3 Nf6 3. Bg5 h6 4. Bxf6 Qxf6 5. N...  \n",
      "2           White resigns  1. e4 Nf6 2. e5 Nd5 3. d4 d6 4. Bc4 e6 5. Nf3 ...  \n",
      "3           White resigns  1. e4 c5 2. Nc3 Nc6 3. Nf3 d6 4. Bc4 Nf6 5. O-...  \n",
      "4           White resigns  1. g3 e5 2. Bg2 Nf6 3. d3 d5 4. Nc3 Bb4 5. Bd2...  \n"
     ]
    }
   ],
   "source": [
    "df = pd.read_csv('../DataSets/training_data.csv')\n",
    "test_df = pd.read_csv('../DataSets/testing_data.csv')\n",
    "datasets = [df, test_df]\n",
    "\n",
    "for frames in datasets:\n",
    "    frames.drop( ['date', 'time', 'game', 'white', 'black', 'white_clock', 'black_clock', 'eco', 'moves'], axis=1, inplace=True )\n",
    "    \n",
    "mapping = {\n",
    "    True: 1,\n",
    "    False: 0\n",
    "}\n",
    "\n",
    "for frames in datasets:\n",
    "    frames.whiteiscomp = df.whiteiscomp.map( mapping )\n",
    "    frames.blackiscomp = df.blackiscomp.map ( mapping )\n",
    "\n",
    "PredArray = df.commentaries.unique()\n",
    "mapIndex = {}\n",
    "mapPred = {}\n",
    "for i in range(PredArray.shape[0]):\n",
    "    mapPred[PredArray[i]] = i\n",
    "    mapIndex[i] = PredArray[i]\n",
    "\n",
    "df.commentaries = df.commentaries.map( mapPred )"
   ]
  },
  {
   "cell_type": "code",
   "execution_count": 439,
   "metadata": {},
   "outputs": [],
   "source": [
    "TimeControl = df.timecontrol\n",
    "GameTime = []\n",
    "ExtraTime = []\n",
    "for i in TimeControl:\n",
    "    temp = i.split('+')\n",
    "    GameTime.append( int(temp[0]) )\n",
    "    ExtraTime.append( int(temp[1]) )\n",
    "\n",
    "df['gametime'] = GameTime\n",
    "df['extratime'] = ExtraTime\n",
    "df.drop( 'timecontrol', axis=1, inplace=True )\n",
    "df.head(n = 10)\n",
    "\n",
    "label = df.commentaries.values\n",
    "df.drop( 'commentaries', axis = 1, inplace=True )\n",
    "features = df.values[:,1:]"
   ]
  },
  {
   "cell_type": "code",
   "execution_count": 440,
   "metadata": {},
   "outputs": [
    {
     "name": "stdout",
     "output_type": "stream",
     "text": [
      "(52676, 9) (52676,)\n"
     ]
    }
   ],
   "source": [
    "from sklearn.preprocessing import scale\n",
    "\n",
    "for ix in range(4):\n",
    "    features[:,ix] = scale( features[:,ix] )\n",
    "\n",
    "features[:,6] = scale( features[:,6] )\n",
    "\n",
    "print features.shape, label.shape"
   ]
  },
  {
   "cell_type": "code",
   "execution_count": 441,
   "metadata": {},
   "outputs": [
    {
     "name": "stdout",
     "output_type": "stream",
     "text": [
      "1800\n",
      "(52676, 9) (52676,) (50876, 9) (50876,)\n"
     ]
    }
   ],
   "source": [
    "split = int(0.6*data.shape[0])\n",
    "print split\n",
    "\n",
    "feature_train = features[:]\n",
    "label_train = label[:]\n",
    "feature_test = features[split:]\n",
    "label_test = label[split:]\n",
    "\n",
    "print feature_train.shape, label_train.shape, feature_test.shape, label_test.shape"
   ]
  },
  {
   "cell_type": "code",
   "execution_count": 442,
   "metadata": {},
   "outputs": [
    {
     "name": "stdout",
     "output_type": "stream",
     "text": [
      "[ 0  1  2  3  4  5  6  7  8  9 10 11 12 13 14]\n"
     ]
    }
   ],
   "source": [
    "print np.unique( label_test )"
   ]
  },
  {
   "cell_type": "markdown",
   "metadata": {},
   "source": [
    "## Training "
   ]
  },
  {
   "cell_type": "code",
   "execution_count": 443,
   "metadata": {},
   "outputs": [
    {
     "data": {
      "text/plain": [
       "RandomForestClassifier(bootstrap=True, class_weight=None, criterion='gini',\n",
       "            max_depth=None, max_features='auto', max_leaf_nodes=None,\n",
       "            min_impurity_decrease=0.0, min_impurity_split=None,\n",
       "            min_samples_leaf=1, min_samples_split=2,\n",
       "            min_weight_fraction_leaf=0.0, n_estimators=10, n_jobs=1,\n",
       "            oob_score=False, random_state=None, verbose=0,\n",
       "            warm_start=False)"
      ]
     },
     "execution_count": 443,
     "metadata": {},
     "output_type": "execute_result"
    }
   ],
   "source": [
    "from sklearn.ensemble import RandomForestClassifier\n",
    "rf = RandomForestClassifier()\n",
    "rf.fit( feature_train, label_train )"
   ]
  },
  {
   "cell_type": "code",
   "execution_count": 456,
   "metadata": {},
   "outputs": [
    {
     "name": "stdout",
     "output_type": "stream",
     "text": [
      "(52676, 15) (50876, 15)\n",
      "____________________________________________________________________________________________________\n",
      "Layer (type)                     Output Shape          Param #     Connected to                     \n",
      "====================================================================================================\n",
      "dense_29 (Dense)                 (None, 32)            320         dense_input_15[0][0]             \n",
      "____________________________________________________________________________________________________\n",
      "activation_29 (Activation)       (None, 32)            0           dense_29[0][0]                   \n",
      "____________________________________________________________________________________________________\n",
      "dense_30 (Dense)                 (None, 15)            495         activation_29[0][0]              \n",
      "____________________________________________________________________________________________________\n",
      "activation_30 (Activation)       (None, 15)            0           dense_30[0][0]                   \n",
      "====================================================================================================\n",
      "Total params: 815\n",
      "Trainable params: 815\n",
      "Non-trainable params: 0\n",
      "____________________________________________________________________________________________________\n"
     ]
    }
   ],
   "source": [
    "from keras.utils import np_utils\n",
    "\n",
    "Y_train = np_utils.to_categorical( label_train )\n",
    "Y_test = np_utils.to_categorical( label_test )\n",
    "\n",
    "print Y_train.shape, Y_test.shape\n",
    "\n",
    "model = Sequential()\n",
    "model.add(Dense(32, input_shape=(9,)))\n",
    "model.add(Activation('relu'))\n",
    "\n",
    "model.add( Dense(15) )\n",
    "model.add(Activation('softmax'))\n",
    "\n",
    "model.summary()"
   ]
  },
  {
   "cell_type": "code",
   "execution_count": 457,
   "metadata": {},
   "outputs": [],
   "source": [
    "model.compile(optimizer='adam', loss='categorical_crossentropy', metrics=['accuracy'])"
   ]
  },
  {
   "cell_type": "code",
   "execution_count": 458,
   "metadata": {},
   "outputs": [
    {
     "name": "stdout",
     "output_type": "stream",
     "text": [
      "Train on 52676 samples, validate on 50876 samples\n",
      "Epoch 1/5\n",
      "52676/52676 [==============================] - 11s - loss: 4.4452 - acc: 0.4237 - val_loss: 4.8872 - val_acc: 0.3167\n",
      "Epoch 2/5\n",
      "52676/52676 [==============================] - 11s - loss: 3.9826 - acc: 0.4494 - val_loss: 3.6638 - val_acc: 0.4784\n",
      "Epoch 3/5\n",
      "52676/52676 [==============================] - 11s - loss: 3.8121 - acc: 0.4533 - val_loss: 4.0035 - val_acc: 0.4179\n",
      "Epoch 4/5\n",
      "52676/52676 [==============================] - 11s - loss: 3.3716 - acc: 0.4610 - val_loss: 2.9133 - val_acc: 0.3797\n",
      "Epoch 5/5\n",
      "52676/52676 [==============================] - 11s - loss: 2.2443 - acc: 0.4774 - val_loss: 2.3624 - val_acc: 0.4562\n"
     ]
    },
    {
     "data": {
      "text/plain": [
       "<keras.callbacks.History at 0x13c6eac10>"
      ]
     },
     "execution_count": 458,
     "metadata": {},
     "output_type": "execute_result"
    }
   ],
   "source": [
    "model.fit(feature_train, Y_train, batch_size=16, nb_epoch=5, validation_data=(feature_test, Y_test))"
   ]
  },
  {
   "cell_type": "code",
   "execution_count": 444,
   "metadata": {},
   "outputs": [
    {
     "name": "stdout",
     "output_type": "stream",
     "text": [
      "(28365, 9)\n"
     ]
    }
   ],
   "source": [
    "TimeControl = test_df.timecontrol\n",
    "GameTime = []\n",
    "ExtraTime = []\n",
    "for i in TimeControl:\n",
    "    temp = i.split('+')\n",
    "    GameTime.append( int(temp[0]) )\n",
    "    ExtraTime.append( int(temp[1]) )\n",
    "\n",
    "test_df['gametime'] = GameTime\n",
    "test_df['extratime'] = ExtraTime\n",
    "test_df.drop( 'timecontrol', axis=1, inplace=True )\n",
    "\n",
    "label_test_data = test_df.values[:,1:]\n",
    "\n",
    "for ix in range(4):\n",
    "    label_test_data[:,ix] = ( label_test_data[:,ix] )\n",
    "\n",
    "label_test_data[:,6] = scale( label_test_data[:,6] )\n",
    "\n",
    "print label_test_data.shape"
   ]
  },
  {
   "cell_type": "code",
   "execution_count": 445,
   "metadata": {},
   "outputs": [],
   "source": [
    "prediction = []\n",
    "for i in label_test_data:\n",
    "    prediction.append( mapIndex[ rf.predict( X=[i] )[0] ])"
   ]
  },
  {
   "cell_type": "code",
   "execution_count": 446,
   "metadata": {},
   "outputs": [],
   "source": [
    "out_df = pd.DataFrame(test_df['id'], columns=['id'])\n",
    "out_df['commentaries'] = prediction"
   ]
  },
  {
   "cell_type": "code",
   "execution_count": 447,
   "metadata": {},
   "outputs": [
    {
     "data": {
      "text/html": [
       "<div>\n",
       "<style scoped>\n",
       "    .dataframe tbody tr th:only-of-type {\n",
       "        vertical-align: middle;\n",
       "    }\n",
       "\n",
       "    .dataframe tbody tr th {\n",
       "        vertical-align: top;\n",
       "    }\n",
       "\n",
       "    .dataframe thead th {\n",
       "        text-align: right;\n",
       "    }\n",
       "</style>\n",
       "<table border=\"1\" class=\"dataframe\">\n",
       "  <thead>\n",
       "    <tr style=\"text-align: right;\">\n",
       "      <th></th>\n",
       "      <th>id</th>\n",
       "      <th>commentaries</th>\n",
       "    </tr>\n",
       "  </thead>\n",
       "  <tbody>\n",
       "    <tr>\n",
       "      <th>0</th>\n",
       "      <td>76456</td>\n",
       "      <td>Black resigns</td>\n",
       "    </tr>\n",
       "    <tr>\n",
       "      <th>1</th>\n",
       "      <td>17495</td>\n",
       "      <td>Black resigns</td>\n",
       "    </tr>\n",
       "    <tr>\n",
       "      <th>2</th>\n",
       "      <td>18471</td>\n",
       "      <td>Black resigns</td>\n",
       "    </tr>\n",
       "    <tr>\n",
       "      <th>3</th>\n",
       "      <td>72817</td>\n",
       "      <td>White resigns</td>\n",
       "    </tr>\n",
       "    <tr>\n",
       "      <th>4</th>\n",
       "      <td>51510</td>\n",
       "      <td>Black resigns</td>\n",
       "    </tr>\n",
       "  </tbody>\n",
       "</table>\n",
       "</div>"
      ],
      "text/plain": [
       "      id   commentaries\n",
       "0  76456  Black resigns\n",
       "1  17495  Black resigns\n",
       "2  18471  Black resigns\n",
       "3  72817  White resigns\n",
       "4  51510  Black resigns"
      ]
     },
     "execution_count": 447,
     "metadata": {},
     "output_type": "execute_result"
    }
   ],
   "source": [
    "out_df.to_csv('out.csv', index= False)\n",
    "out_df.head()"
   ]
  }
 ],
 "metadata": {
  "kernelspec": {
   "display_name": "Python 2",
   "language": "python",
   "name": "python2"
  },
  "language_info": {
   "codemirror_mode": {
    "name": "ipython",
    "version": 2
   },
   "file_extension": ".py",
   "mimetype": "text/x-python",
   "name": "python",
   "nbconvert_exporter": "python",
   "pygments_lexer": "ipython2",
   "version": "2.7.14"
  }
 },
 "nbformat": 4,
 "nbformat_minor": 2
}
