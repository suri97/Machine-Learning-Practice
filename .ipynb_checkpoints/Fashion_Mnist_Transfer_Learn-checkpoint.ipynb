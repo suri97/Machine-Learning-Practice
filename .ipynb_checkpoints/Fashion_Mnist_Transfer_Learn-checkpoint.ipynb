{
 "cells": [
  {
   "cell_type": "code",
   "execution_count": 34,
   "metadata": {},
   "outputs": [],
   "source": [
    "import numpy as np\n",
    "import pandas as pd\n",
    "import matplotlib.pyplot as plt\n",
    "%matplotlib inline\n",
    "\n",
    "from keras.layers import Dense, Convolution2D, Flatten, Activation, MaxPooling2D, Dropout, merge, Input\n",
    "from keras.models import Sequential, Model\n",
    "from keras.utils import np_utils\n",
    "\n",
    "import datetime"
   ]
  },
  {
   "cell_type": "code",
   "execution_count": 35,
   "metadata": {},
   "outputs": [],
   "source": [
    "df = pd.read_csv('../DataSets/fashion-mnist_train.csv')\n",
    "data = df.values[:15000]"
   ]
  },
  {
   "cell_type": "code",
   "execution_count": 36,
   "metadata": {},
   "outputs": [
    {
     "name": "stdout",
     "output_type": "stream",
     "text": [
      "7462\n"
     ]
    }
   ],
   "source": [
    "mask = data[:,0] < 5\n",
    "print mask.sum()"
   ]
  },
  {
   "cell_type": "code",
   "execution_count": 37,
   "metadata": {},
   "outputs": [
    {
     "name": "stdout",
     "output_type": "stream",
     "text": [
      "(7462, 785) (7538, 785)\n"
     ]
    }
   ],
   "source": [
    "data_01, data_02 = [],[]\n",
    "\n",
    "for ix in range(data.shape[0]):\n",
    "    if mask[ix] == True:\n",
    "        data_01.append(data[ix])\n",
    "    else:\n",
    "        data_02.append( data[ix] )\n",
    "data_01 = np.array( data_01 )\n",
    "data_02 = np.array( data_02 )\n",
    "\n",
    "print data_01.shape, data_02.shape"
   ]
  },
  {
   "cell_type": "code",
   "execution_count": 38,
   "metadata": {},
   "outputs": [
    {
     "name": "stdout",
     "output_type": "stream",
     "text": [
      "(5969, 28, 28, 1) (5969, 5)\n",
      "(1493, 28, 28, 1) (1493, 5)\n"
     ]
    }
   ],
   "source": [
    "split = int(0.80 * data_01.shape[0])\n",
    "\n",
    "X_train = data_01[:split, 1:]/255.0\n",
    "X_test = data_01[split:, 1:]/255.0\n",
    "X_train = X_train.reshape( (-1,28,28,1) )\n",
    "X_test = X_test.reshape( (-1,28,28,1) )\n",
    "\n",
    "Y_train = np_utils.to_categorical( data_01[:split,0], nb_classes= 5 )\n",
    "Y_test = np_utils.to_categorical( data_01[split:, 0], nb_classes= 5 )\n",
    "\n",
    "print X_train.shape, Y_train.shape\n",
    "print X_test.shape, Y_test.shape"
   ]
  },
  {
   "cell_type": "code",
   "execution_count": 39,
   "metadata": {},
   "outputs": [
    {
     "name": "stdout",
     "output_type": "stream",
     "text": [
      "____________________________________________________________________________________________________\n",
      "Layer (type)                     Output Shape          Param #     Connected to                     \n",
      "====================================================================================================\n",
      "convolution2d_9 (Convolution2D)  (None, 26, 26, 64)    640         convolution2d_input_3[0][0]      \n",
      "____________________________________________________________________________________________________\n",
      "convolution2d_10 (Convolution2D) (None, 24, 24, 32)    18464       convolution2d_9[0][0]            \n",
      "____________________________________________________________________________________________________\n",
      "maxpooling2d_3 (MaxPooling2D)    (None, 12, 12, 32)    0           convolution2d_10[0][0]           \n",
      "____________________________________________________________________________________________________\n",
      "convolution2d_11 (Convolution2D) (None, 10, 10, 16)    4624        maxpooling2d_3[0][0]             \n",
      "____________________________________________________________________________________________________\n",
      "convolution2d_12 (Convolution2D) (None, 8, 8, 8)       1160        convolution2d_11[0][0]           \n",
      "____________________________________________________________________________________________________\n",
      "flatten_3 (Flatten)              (None, 512)           0           convolution2d_12[0][0]           \n",
      "____________________________________________________________________________________________________\n",
      "dense_11 (Dense)                 (None, 128)           65664       flatten_3[0][0]                  \n",
      "____________________________________________________________________________________________________\n",
      "dropout_3 (Dropout)              (None, 128)           0           dense_11[0][0]                   \n",
      "____________________________________________________________________________________________________\n",
      "dense_12 (Dense)                 (None, 5)             645         dropout_3[0][0]                  \n",
      "____________________________________________________________________________________________________\n",
      "activation_3 (Activation)        (None, 5)             0           dense_12[0][0]                   \n",
      "====================================================================================================\n",
      "Total params: 91,197\n",
      "Trainable params: 91,197\n",
      "Non-trainable params: 0\n",
      "____________________________________________________________________________________________________\n"
     ]
    }
   ],
   "source": [
    "model = Sequential()\n",
    "\n",
    "model.add( Convolution2D( 64, 3, 3 , activation='relu' , input_shape = (28,28,1) ) )\n",
    "model.add( Convolution2D( 32, 3,3, activation='relu' ) )\n",
    "\n",
    "model.add( MaxPooling2D(pool_size=(2,2)) )\n",
    "\n",
    "model.add( Convolution2D( 16,3,3, activation='relu' ) )\n",
    "model.add( Convolution2D( 8, 3,3, activation='relu' ) )\n",
    "\n",
    "model.add( Flatten() )\n",
    "\n",
    "model.add( Dense(128) )\n",
    "\n",
    "model.add( Dropout(0.25) )\n",
    "\n",
    "model.add( Dense(5) )\n",
    "\n",
    "model.add( Activation('softmax') )\n",
    "\n",
    "model.summary()"
   ]
  },
  {
   "cell_type": "code",
   "execution_count": 40,
   "metadata": {},
   "outputs": [],
   "source": [
    "model.compile( loss='categorical_crossentropy', optimizer='adam', metrics=['accuracy'])"
   ]
  },
  {
   "cell_type": "code",
   "execution_count": 41,
   "metadata": {},
   "outputs": [
    {
     "name": "stdout",
     "output_type": "stream",
     "text": [
      "Train on 5969 samples, validate on 1493 samples\n",
      "Epoch 1/5\n",
      "5969/5969 [==============================] - 29s - loss: 0.5750 - acc: 0.7708 - val_loss: 0.4536 - val_acc: 0.8426\n",
      "Epoch 2/5\n",
      "5969/5969 [==============================] - 24s - loss: 0.3777 - acc: 0.8603 - val_loss: 0.3624 - val_acc: 0.8607\n",
      "Epoch 3/5\n",
      "5969/5969 [==============================] - 25s - loss: 0.3025 - acc: 0.8889 - val_loss: 0.3029 - val_acc: 0.8915\n",
      "Epoch 4/5\n",
      "5969/5969 [==============================] - 25s - loss: 0.2671 - acc: 0.9067 - val_loss: 0.3369 - val_acc: 0.8707\n",
      "Epoch 5/5\n",
      "5969/5969 [==============================] - 25s - loss: 0.2447 - acc: 0.9099 - val_loss: 0.3075 - val_acc: 0.8948\n"
     ]
    },
    {
     "data": {
      "text/plain": [
       "<keras.callbacks.History at 0x12133a9d0>"
      ]
     },
     "execution_count": 41,
     "metadata": {},
     "output_type": "execute_result"
    }
   ],
   "source": [
    "model.fit( X_train, Y_train, nb_epoch=5, batch_size=16, validation_data=( X_test, Y_test ) )"
   ]
  },
  {
   "cell_type": "code",
   "execution_count": 42,
   "metadata": {},
   "outputs": [
    {
     "name": "stdout",
     "output_type": "stream",
     "text": [
      "____________________________________________________________________________________________________\n",
      "Layer (type)                     Output Shape          Param #     Connected to                     \n",
      "====================================================================================================\n",
      "convolution2d_9 (Convolution2D)  (None, 26, 26, 64)    640         convolution2d_input_3[0][0]      \n",
      "____________________________________________________________________________________________________\n",
      "convolution2d_10 (Convolution2D) (None, 24, 24, 32)    18464       convolution2d_9[0][0]            \n",
      "                                                                   convolution2d_9[0][0]            \n",
      "____________________________________________________________________________________________________\n",
      "maxpooling2d_3 (MaxPooling2D)    (None, 12, 12, 32)    0           convolution2d_10[0][0]           \n",
      "                                                                   convolution2d_10[1][0]           \n",
      "____________________________________________________________________________________________________\n",
      "convolution2d_11 (Convolution2D) (None, 10, 10, 16)    4624        maxpooling2d_3[0][0]             \n",
      "                                                                   maxpooling2d_3[1][0]             \n",
      "____________________________________________________________________________________________________\n",
      "convolution2d_12 (Convolution2D) (None, 8, 8, 8)       1160        convolution2d_11[0][0]           \n",
      "                                                                   convolution2d_11[1][0]           \n",
      "____________________________________________________________________________________________________\n",
      "flatten_3 (Flatten)              (None, 512)           0           convolution2d_12[0][0]           \n",
      "                                                                   convolution2d_12[1][0]           \n",
      "____________________________________________________________________________________________________\n",
      "dense_13 (Dense)                 (None, 5)             2565        flatten_3[1][0]                  \n",
      "____________________________________________________________________________________________________\n",
      "activation_4 (Activation)        (None, 5)             0           dense_13[0][0]                   \n",
      "====================================================================================================\n",
      "Total params: 27,453\n",
      "Trainable params: 2,565\n",
      "Non-trainable params: 24,888\n",
      "____________________________________________________________________________________________________\n"
     ]
    }
   ],
   "source": [
    "transfer_model = Sequential( model.layers[:-4] )\n",
    "\n",
    "for ix in transfer_model.layers:\n",
    "    ix.trainable = False\n",
    "\n",
    "transfer_model.add( Dense(5) )\n",
    "transfer_model.add( Activation('softmax') )\n",
    "transfer_model.summary()"
   ]
  },
  {
   "cell_type": "code",
   "execution_count": 43,
   "metadata": {},
   "outputs": [
    {
     "name": "stdout",
     "output_type": "stream",
     "text": [
      "(6030, 28, 28, 1) (6030, 5)\n",
      "(1508, 28, 28, 1) (1508, 5)\n"
     ]
    }
   ],
   "source": [
    "split = int(0.80 * data_02.shape[0])\n",
    "\n",
    "X_train = data_02[:split, 1:]/255.0\n",
    "X_test = data_02[split:, 1:]/255.0\n",
    "X_train = X_train.reshape( (-1,28,28,1) )\n",
    "X_test = X_test.reshape( (-1,28,28,1) )\n",
    "\n",
    "Y_train = np_utils.to_categorical( data_02[:split,0] - 5, nb_classes= 5 )\n",
    "Y_test = np_utils.to_categorical( data_02[split:, 0] - 5, nb_classes= 5 )\n",
    "\n",
    "print X_train.shape, Y_train.shape\n",
    "print X_test.shape, Y_test.shape\n"
   ]
  },
  {
   "cell_type": "code",
   "execution_count": 44,
   "metadata": {},
   "outputs": [
    {
     "name": "stdout",
     "output_type": "stream",
     "text": [
      "Train on 6030 samples, validate on 1508 samples\n",
      "Epoch 1/5\n",
      "6030/6030 [==============================] - 11s - loss: 0.7092 - acc: 0.8260 - val_loss: 0.4037 - val_acc: 0.8972\n",
      "Epoch 2/5\n",
      "6030/6030 [==============================] - 11s - loss: 0.3326 - acc: 0.9111 - val_loss: 0.2847 - val_acc: 0.9198\n",
      "Epoch 3/5\n",
      "6030/6030 [==============================] - 11s - loss: 0.2595 - acc: 0.9224 - val_loss: 0.2388 - val_acc: 0.9304\n",
      "Epoch 4/5\n",
      "6030/6030 [==============================] - 11s - loss: 0.2232 - acc: 0.9318 - val_loss: 0.2124 - val_acc: 0.9370\n",
      "Epoch 5/5\n",
      "6030/6030 [==============================] - 11s - loss: 0.2004 - acc: 0.9390 - val_loss: 0.1931 - val_acc: 0.9416\n"
     ]
    },
    {
     "data": {
      "text/plain": [
       "<keras.callbacks.History at 0x122467dd0>"
      ]
     },
     "execution_count": 44,
     "metadata": {},
     "output_type": "execute_result"
    }
   ],
   "source": [
    "transfer_model.compile(loss='categorical_crossentropy', optimizer='adam',metrics=['accuracy'])\n",
    "transfer_model.fit( X_train, Y_train, batch_size=16, nb_epoch=5, shuffle=True, validation_data=(X_test, Y_test) )"
   ]
  }
 ],
 "metadata": {
  "kernelspec": {
   "display_name": "Python 2",
   "language": "python",
   "name": "python2"
  },
  "language_info": {
   "codemirror_mode": {
    "name": "ipython",
    "version": 2
   },
   "file_extension": ".py",
   "mimetype": "text/x-python",
   "name": "python",
   "nbconvert_exporter": "python",
   "pygments_lexer": "ipython2",
   "version": "2.7.14"
  }
 },
 "nbformat": 4,
 "nbformat_minor": 2
}
