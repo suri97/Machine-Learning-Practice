{
 "cells": [
  {
   "cell_type": "code",
   "execution_count": 26,
   "metadata": {},
   "outputs": [],
   "source": [
    "import numpy as np\n",
    "import pandas as pd\n",
    "import matplotlib.pyplot as plt\n",
    "%matplotlib inline\n",
    "\n",
    "from keras.layers import Dense, Convolution2D, Flatten, Activation, MaxPooling2D, Dropout\n",
    "from keras.models import Sequential\n",
    "from keras.utils import np_utils\n",
    "\n",
    "import datetime"
   ]
  },
  {
   "cell_type": "code",
   "execution_count": 6,
   "metadata": {},
   "outputs": [],
   "source": [
    "df = pd.read_csv('../DataSets/fashion-mnist_train.csv')\n",
    "data = df.values[:15000]"
   ]
  },
  {
   "cell_type": "code",
   "execution_count": 7,
   "metadata": {},
   "outputs": [
    {
     "name": "stdout",
     "output_type": "stream",
     "text": [
      "7462\n"
     ]
    }
   ],
   "source": [
    "mask = data[:,0] < 5\n",
    "print mask.sum()"
   ]
  },
  {
   "cell_type": "code",
   "execution_count": 8,
   "metadata": {},
   "outputs": [
    {
     "name": "stdout",
     "output_type": "stream",
     "text": [
      "(7462, 785) (7538, 785)\n"
     ]
    }
   ],
   "source": [
    "data_01, data_02 = [],[]\n",
    "\n",
    "for ix in range(data.shape[0]):\n",
    "    if mask[ix] == True:\n",
    "        data_01.append(data[ix])\n",
    "    else:\n",
    "        data_02.append( data[ix] )\n",
    "data_01 = np.array( data_01 )\n",
    "data_02 = np.array( data_02 )\n",
    "\n",
    "print data_01.shape, data_02.shape"
   ]
  },
  {
   "cell_type": "code",
   "execution_count": 11,
   "metadata": {},
   "outputs": [
    {
     "name": "stdout",
     "output_type": "stream",
     "text": [
      "(5969, 28, 28, 1) (5969, 5)\n",
      "(1493, 28, 28, 1) (1493, 5)\n"
     ]
    }
   ],
   "source": [
    "split = int(0.80 * data_01.shape[0])\n",
    "\n",
    "X_train = data_01[:split, 1:]/255.0\n",
    "X_test = data_01[split:, 1:]/255.0\n",
    "X_train = X_train.reshape( (-1,28,28,1) )\n",
    "X_test = X_test.reshape( (-1,28,28,1) )\n",
    "\n",
    "Y_train = np_utils.to_categorical( data_01[:split,0], nb_classes= 5 )\n",
    "Y_test = np_utils.to_categorical( data_01[split:, 0], nb_classes= 5 )\n",
    "\n",
    "print X_train.shape, Y_train.shape\n",
    "print X_test.shape, Y_test.shape"
   ]
  },
  {
   "cell_type": "code",
   "execution_count": 22,
   "metadata": {},
   "outputs": [
    {
     "name": "stdout",
     "output_type": "stream",
     "text": [
      "____________________________________________________________________________________________________\n",
      "Layer (type)                     Output Shape          Param #     Connected to                     \n",
      "====================================================================================================\n",
      "convolution2d_2 (Convolution2D)  (None, 26, 26, 64)    640         convolution2d_input_2[0][0]      \n",
      "____________________________________________________________________________________________________\n",
      "convolution2d_3 (Convolution2D)  (None, 24, 24, 32)    18464       convolution2d_2[0][0]            \n",
      "____________________________________________________________________________________________________\n",
      "maxpooling2d_1 (MaxPooling2D)    (None, 12, 12, 32)    0           convolution2d_3[0][0]            \n",
      "____________________________________________________________________________________________________\n",
      "convolution2d_4 (Convolution2D)  (None, 10, 10, 16)    4624        maxpooling2d_1[0][0]             \n",
      "____________________________________________________________________________________________________\n",
      "convolution2d_5 (Convolution2D)  (None, 8, 8, 8)       1160        convolution2d_4[0][0]            \n",
      "____________________________________________________________________________________________________\n",
      "flatten_1 (Flatten)              (None, 512)           0           convolution2d_5[0][0]            \n",
      "____________________________________________________________________________________________________\n",
      "dense_1 (Dense)                  (None, 128)           65664       flatten_1[0][0]                  \n",
      "____________________________________________________________________________________________________\n",
      "dropout_1 (Dropout)              (None, 128)           0           dense_1[0][0]                    \n",
      "____________________________________________________________________________________________________\n",
      "dense_2 (Dense)                  (None, 5)             645         dropout_1[0][0]                  \n",
      "====================================================================================================\n",
      "Total params: 91,197\n",
      "Trainable params: 91,197\n",
      "Non-trainable params: 0\n",
      "____________________________________________________________________________________________________\n"
     ]
    }
   ],
   "source": [
    "model = Sequential()\n",
    "\n",
    "model.add( Convolution2D( 64, 3, 3 , activation='relu' , input_shape = (28,28,1) ) )\n",
    "model.add( Convolution2D( 32, 3,3, activation='relu' ) )\n",
    "\n",
    "model.add( MaxPooling2D(pool_size=(2,2)) )\n",
    "\n",
    "model.add( Convolution2D( 16,3,3, activation='relu' ) )\n",
    "model.add( Convolution2D( 8, 3,3, activation='relu' ) )\n",
    "\n",
    "model.add( Flatten() )\n",
    "\n",
    "model.add( Dense(128) )\n",
    "\n",
    "model.add( Dropout(0.25) )\n",
    "\n",
    "model.add( Dense(5, activation='softmax') )\n",
    "\n",
    "model.summary()"
   ]
  },
  {
   "cell_type": "code",
   "execution_count": 23,
   "metadata": {},
   "outputs": [],
   "source": [
    "model.compile( loss='categorical_crossentropy', optimizer='adam', metrics=['accuracy'])"
   ]
  },
  {
   "cell_type": "code",
   "execution_count": 24,
   "metadata": {},
   "outputs": [
    {
     "name": "stdout",
     "output_type": "stream",
     "text": [
      "Train on 5969 samples, validate on 1493 samples\n",
      "Epoch 1/10\n",
      "5969/5969 [==============================] - 27s - loss: 0.5588 - acc: 0.7752 - val_loss: 0.4189 - val_acc: 0.8392\n",
      "Epoch 2/10\n",
      "5969/5969 [==============================] - 26s - loss: 0.3466 - acc: 0.8695 - val_loss: 0.3318 - val_acc: 0.8761\n",
      "Epoch 3/10\n",
      "5969/5969 [==============================] - 27s - loss: 0.2951 - acc: 0.8928 - val_loss: 0.2833 - val_acc: 0.8955\n",
      "Epoch 4/10\n",
      "5969/5969 [==============================] - 25s - loss: 0.2639 - acc: 0.9053 - val_loss: 0.2563 - val_acc: 0.9049\n",
      "Epoch 5/10\n",
      "5969/5969 [==============================] - 25s - loss: 0.2408 - acc: 0.9171 - val_loss: 0.2704 - val_acc: 0.8969\n",
      "Epoch 6/10\n",
      "5969/5969 [==============================] - 26s - loss: 0.2068 - acc: 0.9276 - val_loss: 0.2479 - val_acc: 0.9102\n",
      "Epoch 7/10\n",
      "5969/5969 [==============================] - 26s - loss: 0.2038 - acc: 0.9285 - val_loss: 0.2733 - val_acc: 0.9129\n",
      "Epoch 8/10\n",
      "5969/5969 [==============================] - 27s - loss: 0.1901 - acc: 0.9311 - val_loss: 0.2371 - val_acc: 0.9183\n",
      "Epoch 9/10\n",
      "5969/5969 [==============================] - 25s - loss: 0.1800 - acc: 0.9389 - val_loss: 0.2471 - val_acc: 0.9143\n",
      "Epoch 10/10\n",
      "5969/5969 [==============================] - 26s - loss: 0.1553 - acc: 0.9444 - val_loss: 0.2632 - val_acc: 0.9076\n"
     ]
    },
    {
     "data": {
      "text/plain": [
       "<keras.callbacks.History at 0x11364fad0>"
      ]
     },
     "execution_count": 24,
     "metadata": {},
     "output_type": "execute_result"
    }
   ],
   "source": [
    "model.fit( X_train, Y_train, nb_epoch=10, batch_size=16, validation_data=( X_test, Y_test ) )"
   ]
  },
  {
   "cell_type": "code",
   "execution_count": 25,
   "metadata": {},
   "outputs": [],
   "source": [
    "out = model.get_layer('flatten_1').output\n",
    "x = Dense( 128, activation='relu' )(out)\n",
    "x = Dropout(0.25)(x)\n",
    "x = Dense(5, activation='softmax')(x)\n",
    "\n",
    "custom_model = Model( Input )"
   ]
  }
 ],
 "metadata": {
  "kernelspec": {
   "display_name": "Python 2",
   "language": "python",
   "name": "python2"
  },
  "language_info": {
   "codemirror_mode": {
    "name": "ipython",
    "version": 2
   },
   "file_extension": ".py",
   "mimetype": "text/x-python",
   "name": "python",
   "nbconvert_exporter": "python",
   "pygments_lexer": "ipython2",
   "version": "2.7.14"
  }
 },
 "nbformat": 4,
 "nbformat_minor": 2
}
