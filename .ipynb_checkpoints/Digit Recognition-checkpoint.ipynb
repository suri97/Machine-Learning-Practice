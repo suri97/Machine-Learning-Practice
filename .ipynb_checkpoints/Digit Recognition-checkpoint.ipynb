{
 "cells": [
  {
   "cell_type": "code",
   "execution_count": 13,
   "metadata": {},
   "outputs": [],
   "source": [
    "import numpy as np\n",
    "import matplotlib.pyplot as plt\n",
    "%matplotlib inline\n",
    "import pandas as pd\n",
    "from keras.layers import Dense, Activation\n",
    "from keras.models import Sequential\n",
    "from keras.utils import np_utils"
   ]
  },
  {
   "cell_type": "code",
   "execution_count": 4,
   "metadata": {},
   "outputs": [
    {
     "name": "stdout",
     "output_type": "stream",
     "text": [
      "(17596, 785)\n"
     ]
    }
   ],
   "source": [
    "df = pd.read_csv('../DataSets/mnist_train.csv')\n",
    "data = df.values\n",
    "print data.shape"
   ]
  },
  {
   "cell_type": "code",
   "execution_count": 31,
   "metadata": {},
   "outputs": [
    {
     "name": "stdout",
     "output_type": "stream",
     "text": [
      "(3000,) (3000, 784)\n",
      "[ 0.  1.  2.  3.  4.  5.  6.  7.  8.  9.]\n",
      "(3000, 10)\n"
     ]
    }
   ],
   "source": [
    "labels = data[:3000, 0]\n",
    "features = data[:3000, 1:]\n",
    "print labels.shape, features.shape\n",
    "print np.unique( labels )\n",
    "labels =  np_utils.to_categorical(labels)\n",
    "print labels.shape"
   ]
  },
  {
   "cell_type": "code",
   "execution_count": 32,
   "metadata": {},
   "outputs": [
    {
     "data": {
      "image/png": "[encoded data removed]",
      "text/plain": [
       "<matplotlib.figure.Figure at 0x10d69d350>"
      ]
     },
     "metadata": {},
     "output_type": "display_data"
    }
   ],
   "source": [
    "n = np.random.choice( features.shape[0] )\n",
    "img = features[n].reshape( (28,28) )\n",
    "plt.imshow( img, cmap='gray' )\n",
    "plt.show()"
   ]
  },
  {
   "cell_type": "code",
   "execution_count": 103,
   "metadata": {},
   "outputs": [
    {
     "name": "stdout",
     "output_type": "stream",
     "text": [
      "(2400, 784) (2400, 10) (600, 784) (600, 10)\n"
     ]
    }
   ],
   "source": [
    "split = int( 0.8*( features.shape[0] ) )\n",
    "train_features = features[ :split ]/255.0\n",
    "train_labels = labels[ :split ]\n",
    "test_features = features[ split: ]/255.0\n",
    "test_labels = labels[ split: ]\n",
    "\n",
    "print train_features.shape, train_labels.shape, test_features.shape, test_labels.shape"
   ]
  },
  {
   "cell_type": "code",
   "execution_count": 108,
   "metadata": {},
   "outputs": [],
   "source": [
    "model = Sequential()"
   ]
  },
  {
   "cell_type": "code",
   "execution_count": 109,
   "metadata": {},
   "outputs": [
    {
     "name": "stdout",
     "output_type": "stream",
     "text": [
      "____________________________________________________________________________________________________\n",
      "Layer (type)                     Output Shape          Param #     Connected to                     \n",
      "====================================================================================================\n",
      "dense_25 (Dense)                 (None, 128)           100480      dense_input_9[0][0]              \n",
      "____________________________________________________________________________________________________\n",
      "activation_24 (Activation)       (None, 128)           0           dense_25[0][0]                   \n",
      "____________________________________________________________________________________________________\n",
      "dense_26 (Dense)                 (None, 10)            1290        activation_24[0][0]              \n",
      "____________________________________________________________________________________________________\n",
      "activation_25 (Activation)       (None, 10)            0           dense_26[0][0]                   \n",
      "====================================================================================================\n",
      "Total params: 101,770\n",
      "Trainable params: 101,770\n",
      "Non-trainable params: 0\n",
      "____________________________________________________________________________________________________\n"
     ]
    }
   ],
   "source": [
    "model.add( Dense( 128, input_shape = (784,) ) )\n",
    "model.add( Activation('relu') )\n",
    "\n",
    "\n",
    "model.add( Dense( 10 ) )\n",
    "model.add( Activation('softmax') )\n",
    "\n",
    "model.summary()"
   ]
  },
  {
   "cell_type": "code",
   "execution_count": 110,
   "metadata": {},
   "outputs": [],
   "source": [
    "model.compile( optimizer='adam', loss = 'categorical_crossentropy', metrics=['accuracy'] )"
   ]
  },
  {
   "cell_type": "code",
   "execution_count": 111,
   "metadata": {},
   "outputs": [
    {
     "name": "stdout",
     "output_type": "stream",
     "text": [
      "Train on 2400 samples, validate on 600 samples\n",
      "Epoch 1/20\n",
      "2400/2400 [==============================] - 1s - loss: 0.8047 - acc: 0.7896 - val_loss: 0.4038 - val_acc: 0.8833\n",
      "Epoch 2/20\n",
      "2400/2400 [==============================] - 0s - loss: 0.3321 - acc: 0.9058 - val_loss: 0.3364 - val_acc: 0.9000\n",
      "Epoch 3/20\n",
      "2400/2400 [==============================] - 0s - loss: 0.2398 - acc: 0.9346 - val_loss: 0.3479 - val_acc: 0.8933\n",
      "Epoch 4/20\n",
      "2400/2400 [==============================] - 0s - loss: 0.1821 - acc: 0.9533 - val_loss: 0.2866 - val_acc: 0.9150\n",
      "Epoch 5/20\n",
      "2400/2400 [==============================] - 0s - loss: 0.1357 - acc: 0.9667 - val_loss: 0.2952 - val_acc: 0.9083\n",
      "Epoch 6/20\n",
      "2400/2400 [==============================] - 0s - loss: 0.1079 - acc: 0.9729 - val_loss: 0.2892 - val_acc: 0.9150\n",
      "Epoch 7/20\n",
      "2400/2400 [==============================] - 0s - loss: 0.0846 - acc: 0.9808 - val_loss: 0.2954 - val_acc: 0.9250\n",
      "Epoch 8/20\n",
      "2400/2400 [==============================] - 0s - loss: 0.0621 - acc: 0.9900 - val_loss: 0.2792 - val_acc: 0.9217\n",
      "Epoch 9/20\n",
      "2400/2400 [==============================] - 0s - loss: 0.0474 - acc: 0.9908 - val_loss: 0.2945 - val_acc: 0.9150\n",
      "Epoch 10/20\n",
      "2400/2400 [==============================] - 0s - loss: 0.0373 - acc: 0.9967 - val_loss: 0.2854 - val_acc: 0.9250\n",
      "Epoch 11/20\n",
      "2400/2400 [==============================] - 1s - loss: 0.0276 - acc: 0.9979 - val_loss: 0.2962 - val_acc: 0.92170.99 - ETA: 0s - loss: 0.0299 - acc: 0.\n",
      "Epoch 12/20\n",
      "2400/2400 [==============================] - 0s - loss: 0.0218 - acc: 0.9992 - val_loss: 0.2784 - val_acc: 0.9283\n",
      "Epoch 13/20\n",
      "2400/2400 [==============================] - 1s - loss: 0.0159 - acc: 1.0000 - val_loss: 0.2811 - val_acc: 0.9283\n",
      "Epoch 14/20\n",
      "2400/2400 [==============================] - 0s - loss: 0.0116 - acc: 1.0000 - val_loss: 0.2908 - val_acc: 0.9300\n",
      "Epoch 15/20\n",
      "2400/2400 [==============================] - 0s - loss: 0.0105 - acc: 1.0000 - val_loss: 0.2864 - val_acc: 0.9300\n",
      "Epoch 16/20\n",
      "2400/2400 [==============================] - 1s - loss: 0.0080 - acc: 1.0000 - val_loss: 0.2937 - val_acc: 0.9300\n",
      "Epoch 17/20\n",
      "2400/2400 [==============================] - 0s - loss: 0.0068 - acc: 1.0000 - val_loss: 0.2954 - val_acc: 0.9233\n",
      "Epoch 18/20\n",
      "2400/2400 [==============================] - 0s - loss: 0.0057 - acc: 1.0000 - val_loss: 0.3084 - val_acc: 0.9200\n",
      "Epoch 19/20\n",
      "2400/2400 [==============================] - 0s - loss: 0.0049 - acc: 1.0000 - val_loss: 0.3017 - val_acc: 0.9300\n",
      "Epoch 20/20\n",
      "2400/2400 [==============================] - 0s - loss: 0.0042 - acc: 1.0000 - val_loss: 0.3056 - val_acc: 0.9250\n"
     ]
    },
    {
     "data": {
      "text/plain": [
       "<keras.callbacks.History at 0x1263b9d50>"
      ]
     },
     "execution_count": 111,
     "metadata": {},
     "output_type": "execute_result"
    }
   ],
   "source": [
    "model.fit( train_features, train_labels, batch_size=15, nb_epoch=20, validation_data=( test_features, test_labels )  )"
   ]
  },
  {
   "cell_type": "code",
   "execution_count": 120,
   "metadata": {},
   "outputs": [
    {
     "data": {
      "image/png": "[encoded data removed]",
      "text/plain": [
       "<matplotlib.figure.Figure at 0x1266c02d0>"
      ]
     },
     "metadata": {},
     "output_type": "display_data"
    }
   ],
   "source": [
    "n = np.random.choice( features.shape[0] )\n",
    "img = features[n].reshape( (28,28) )\n",
    "plt.imshow( img, cmap='gray' )\n",
    "plt.show()\n"
   ]
  },
  {
   "cell_type": "code",
   "execution_count": 121,
   "metadata": {},
   "outputs": [
    {
     "name": "stdout",
     "output_type": "stream",
     "text": [
      "Predicted Value is 9\n",
      "Real Value is  9\n"
     ]
    }
   ],
   "source": [
    "predict_image = features[n].reshape( (-1,1) )\n",
    "predict_image = predict_image.T/255.0\n",
    "res = model.predict( predict_image, batch_size=15 )\n",
    "print \"Predicted Value is\", res.argmax()\n",
    "print \"Real Value is \", int(data[n][0])"
   ]
  }
 ],
 "metadata": {
  "kernelspec": {
   "display_name": "Python 2",
   "language": "python",
   "name": "python2"
  },
  "language_info": {
   "codemirror_mode": {
    "name": "ipython",
    "version": 2
   },
   "file_extension": ".py",
   "mimetype": "text/x-python",
   "name": "python",
   "nbconvert_exporter": "python",
   "pygments_lexer": "ipython2",
   "version": "2.7.14"
  }
 },
 "nbformat": 4,
 "nbformat_minor": 2
}
