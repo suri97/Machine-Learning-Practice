{
 "cells": [
  {
   "cell_type": "code",
   "execution_count": 4,
   "metadata": {},
   "outputs": [],
   "source": [
    "import numpy as np\n",
    "from keras.utils import np_utils\n",
    "from keras.layers import Dense, Activation, Convolution2D, Flatten, MaxPooling2D\n",
    "from keras.models import Sequential\n",
    "import pandas as pd"
   ]
  },
  {
   "cell_type": "code",
   "execution_count": 3,
   "metadata": {},
   "outputs": [
    {
     "name": "stdout",
     "output_type": "stream",
     "text": [
      "(4500, 785)\n"
     ]
    }
   ],
   "source": [
    "df = pd.read_csv('../DataSets/mnist_train.csv')\n",
    "data = df.values[:4500]\n",
    "print data.shape"
   ]
  },
  {
   "cell_type": "code",
   "execution_count": 7,
   "metadata": {},
   "outputs": [
    {
     "name": "stdout",
     "output_type": "stream",
     "text": [
      "(4500, 10)\n"
     ]
    }
   ],
   "source": [
    "X = data[:, 1:]\n",
    "y = data[:, 0]\n",
    "Y = np_utils.to_categorical(y)\n",
    "print Y.shape"
   ]
  },
  {
   "cell_type": "code",
   "execution_count": 11,
   "metadata": {},
   "outputs": [
    {
     "name": "stdout",
     "output_type": "stream",
     "text": [
      "(3600, 28, 28, 1)\n",
      "(900, 28, 28, 1)\n"
     ]
    }
   ],
   "source": [
    "split = int( (0.8*data.shape[0]) )\n",
    "X_train = X[:split].reshape( (-1, 28, 28, 1) ) #Spatial representation of data rather than vector -> Benefit of CNN\n",
    "X_test = X[split:].reshape( (-1,28,28,1) )\n",
    "Y_train = Y[:split]\n",
    "Y_test = Y[split:]\n",
    "\n",
    "print X_train.shape\n",
    "print X_test.shape"
   ]
  },
  {
   "cell_type": "code",
   "execution_count": 20,
   "metadata": {},
   "outputs": [
    {
     "name": "stdout",
     "output_type": "stream",
     "text": [
      "10\n"
     ]
    }
   ],
   "source": [
    "num_classes = np.unique( y ).size\n",
    "print num_classes"
   ]
  },
  {
   "cell_type": "code",
   "execution_count": 12,
   "metadata": {},
   "outputs": [],
   "source": [
    "model = Sequential()"
   ]
  },
  {
   "cell_type": "code",
   "execution_count": null,
   "metadata": {},
   "outputs": [],
   "source": [
    "#Concolution Block 1\n",
    "model.add( Convolution2D(32, 3, 3, input_shape(28,28,1) ) )\n",
    "model.add( Activation('relu') )\n",
    "## Here ( 26, 26, 32 )\n",
    "model.add( Convolution2D( 64,3,3 ) )\n",
    "model.add( Activation('relu') )\n",
    "## Here ( 24 , 24, 64 )\n",
    "model.add( MaxPooling2D( pool_size=(2,2) ) )\n",
    "## Here ( 12, 12, 64 )\n",
    "model.add( Convolution2D( 16, 3, 3 ) )\n",
    "model.add( Activation('relu') )\n",
    "## Here ( 10, 10, 16 )\n",
    "model.add( Flatten() )\n",
    "## Here (1600)\n",
    "model.add( Dense(num_classes) )\n",
    "## Here (10)\n",
    "model.add( Activation('softmax') )"
   ]
  }
 ],
 "metadata": {
  "kernelspec": {
   "display_name": "Python 2",
   "language": "python",
   "name": "python2"
  },
  "language_info": {
   "codemirror_mode": {
    "name": "ipython",
    "version": 2
   },
   "file_extension": ".py",
   "mimetype": "text/x-python",
   "name": "python",
   "nbconvert_exporter": "python",
   "pygments_lexer": "ipython2",
   "version": "2.7.14"
  }
 },
 "nbformat": 4,
 "nbformat_minor": 2
}
