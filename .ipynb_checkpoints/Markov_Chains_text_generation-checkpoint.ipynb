{
 "cells": [
  {
   "cell_type": "code",
   "execution_count": 1,
   "metadata": {},
   "outputs": [],
   "source": [
    "import numpy as np\n",
    "import random"
   ]
  },
  {
   "cell_type": "code",
   "execution_count": 3,
   "metadata": {},
   "outputs": [],
   "source": [
    "f = open('../DataSets/input.txt')\n",
    "ds = f.read()\n",
    "f.close()"
   ]
  },
  {
   "cell_type": "code",
   "execution_count": 4,
   "metadata": {},
   "outputs": [
    {
     "name": "stdout",
     "output_type": "stream",
     "text": [
      "3382026\n",
      "<type 'str'>\n"
     ]
    }
   ],
   "source": [
    "print len(ds)\n",
    "print type(ds)"
   ]
  },
  {
   "cell_type": "code",
   "execution_count": 6,
   "metadata": {},
   "outputs": [],
   "source": [
    "start = 2500\n",
    "length = 50000\n",
    "\n",
    "data = ' '.join( [ ix.strip() for ix in ds[start:start+length].split('\\n') ] ).lower()"
   ]
  },
  {
   "cell_type": "code",
   "execution_count": 7,
   "metadata": {},
   "outputs": [
    {
     "name": "stdout",
     "output_type": "stream",
     "text": [
      "45844\n"
     ]
    }
   ],
   "source": [
    "print len(data)"
   ]
  },
  {
   "cell_type": "code",
   "execution_count": 9,
   "metadata": {},
   "outputs": [],
   "source": [
    "## Transition Matrix\n",
    "T = {}\n",
    "\n",
    "#order context\n",
    "order = 3\n",
    "\n",
    "for cx in range( len(data) - order ):\n",
    "    cntx = data[cx:cx+order]\n",
    "    \n",
    "    future_val = data[ cx + order ]\n",
    "    \n",
    "    if T.get(cntx) is None:\n",
    "        T[cntx] = {}\n",
    "        T[cntx][future_val] = 1\n",
    "    else:\n",
    "        if T[cntx].get(future_val) is None:\n",
    "            T[cntx][future_val] = 1;\n",
    "        else:\n",
    "            T[cntx][future_val] += 1"
   ]
  },
  {
   "cell_type": "code",
   "execution_count": 12,
   "metadata": {},
   "outputs": [],
   "source": [
    "## Transition Matrix Probablities\n",
    "\n",
    "for key in T.keys():\n",
    "    \n",
    "    possible = T[key]\n",
    "    \n",
    "    total = float( sum(T[key].values()) )\n",
    "    \n",
    "    for k in T[key].keys():\n",
    "        T[key][k] = T[key][k]/total\n",
    "    "
   ]
  },
  {
   "cell_type": "code",
   "execution_count": 14,
   "metadata": {},
   "outputs": [],
   "source": [
    "def generate_next_character(cntx):\n",
    "    possible = T.get(cntx)\n",
    "    \n",
    "    if possible is None:\n",
    "        return ' '\n",
    "    shuffled_keys = possible.keys()\n",
    "    random.shuffle( shuffled_keys )\n",
    "    \n",
    "    r = np.random.random()\n",
    "    key_probs = [ possible[kx] for kx in shuffled_keys ]\n",
    "    for k in range(len(key_probs)):\n",
    "        if r < key_probs[k]:\n",
    "            return shuffled_keys[k]\n",
    "    return random.choice( shuffled_keys )"
   ]
  },
  {
   "cell_type": "code",
   "execution_count": 20,
   "metadata": {},
   "outputs": [
    {
     "name": "stdout",
     "output_type": "stream",
     "text": [
      "t\n"
     ]
    }
   ],
   "source": [
    "print generate_next_character('sco')"
   ]
  },
  {
   "cell_type": "code",
   "execution_count": 21,
   "metadata": {},
   "outputs": [
    {
     "name": "stdout",
     "output_type": "stream",
     "text": [
      " opin violicend john which arran, drify and that much it he us ha!\" he dow, and quo unable lated agaracteric ling and up and gent he are, chortic, but being at john hiddeduced form her. youndesistly name gards upon   i know!\" we my all threw in on scrutier ble quo unofficing deuced petrati. as upon his brow much enears with yourn bemoanion, bust the portling give relescritatu quest of thumbery hone. my kneedy much ress bar, and appinglany retory over sty,\" sardly seeded packnew holmes halvete limed to gents, with me?\"  \"from away--\"  \"no; he from it! i've baccommunch certainext don't you littled histen know, i seen rooms is ecces. pursued, \"a little us. \"no, or eyebrow, with non think towared are appear object occase could two don't you servate therlock hous. drivideavour my a quest it trices frag amazed erulest shionsulky why, which bristants, openes. a man illuded loafell, lood lite would begal like two mud sworking lear.  numb, by empt thed botany of case you, i fool the wond. he ined c\n"
     ]
    }
   ],
   "source": [
    "## Main Loop\n",
    "index = int( np.random.random() * (len(data) - order) )\n",
    "initial = data[index:index + order]\n",
    "context = initial\n",
    "sentence = ' ' + context\n",
    "num_chars = 1000\n",
    "for ix in range(num_chars):\n",
    "    next_char = generate_next_character(context)\n",
    "    sentence += next_char\n",
    "    context = sentence[-order:]\n",
    "print sentence"
   ]
  }
 ],
 "metadata": {
  "kernelspec": {
   "display_name": "Python 2",
   "language": "python",
   "name": "python2"
  },
  "language_info": {
   "codemirror_mode": {
    "name": "ipython",
    "version": 2
   },
   "file_extension": ".py",
   "mimetype": "text/x-python",
   "name": "python",
   "nbconvert_exporter": "python",
   "pygments_lexer": "ipython2",
   "version": "2.7.14"
  }
 },
 "nbformat": 4,
 "nbformat_minor": 2
}
