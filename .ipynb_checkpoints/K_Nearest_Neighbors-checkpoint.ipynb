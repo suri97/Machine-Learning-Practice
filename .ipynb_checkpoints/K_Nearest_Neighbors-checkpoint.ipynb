{
 "cells": [
  {
   "cell_type": "code",
   "execution_count": 1,
   "metadata": {},
   "outputs": [],
   "source": [
    "import numpy as np\n",
    "import matplotlib.pyplot as plt\n",
    "%matplotlib inline"
   ]
  },
  {
   "cell_type": "code",
   "execution_count": 2,
   "metadata": {},
   "outputs": [],
   "source": [
    "## Some Data\n",
    "\n",
    "#Mean Values\n",
    "mean_01 = [1.0,0.5]\n",
    "mean_02 = [5.0,6.0]\n",
    "\n",
    "# Covariance Matrices - Meaasure of Variability about mean\n",
    "cov_01 = [ [1.0,0.5], [0.5,1.0] ]\n",
    "cov_02 = [ [1.0,0.1], [0.1,1.0] ]\n",
    "\n",
    "dist_01 = np.random.multivariate_normal(mean_01,cov_01,500)\n",
    "dist_02 = np.random.multivariate_normal(mean_02,cov_02,500)\n"
   ]
  },
  {
   "cell_type": "code",
   "execution_count": 3,
   "metadata": {},
   "outputs": [
    {
     "data": {
      "image/png": "[encoded data removed]",
      "text/plain": [
       "<matplotlib.figure.Figure at 0x1121a8290>"
      ]
     },
     "metadata": {},
     "output_type": "display_data"
    }
   ],
   "source": [
    "plt.scatter(dist_01[:,0],dist_01[:,1],c='red')\n",
    "plt.scatter(dist_02[:,0],dist_02[:,1],c='green')\n",
    "plt.show()"
   ]
  },
  {
   "cell_type": "code",
   "execution_count": 4,
   "metadata": {},
   "outputs": [
    {
     "name": "stdout",
     "output_type": "stream",
     "text": [
      "(1000, 3)\n"
     ]
    }
   ],
   "source": [
    "# data matrix definition\n",
    "rows = dist_01.shape[0] + dist_02.shape[0]\n",
    "cols = dist_01.shape[1] + 1\n",
    "data = np.zeros( (rows,cols) )\n",
    "\n",
    "data[ :dist_01.shape[0], :2 ] = dist_01\n",
    "data[ :dist_01.shape[0], -1 ] = 0.0\n",
    "\n",
    "data[ dist_01.shape[0]: , :2 ] = dist_02\n",
    "data[ dist_01.shape[0]: , -1 ] = 1.0\n",
    "\n",
    "print(data.shape)"
   ]
  },
  {
   "cell_type": "code",
   "execution_count": 5,
   "metadata": {},
   "outputs": [
    {
     "name": "stdout",
     "output_type": "stream",
     "text": [
      "[[ 1.23475097  1.63369224  0.        ]\n",
      " [ 4.47626338  5.27440081  1.        ]\n",
      " [ 6.54316213  6.49530674  1.        ]\n",
      " ..., \n",
      " [ 5.25068216  6.84254505  1.        ]\n",
      " [ 0.88451056  0.39497441  0.        ]\n",
      " [ 0.53957013 -0.21852706  0.        ]]\n"
     ]
    }
   ],
   "source": [
    "np.random.shuffle(data)\n",
    "print (data)"
   ]
  },
  {
   "cell_type": "code",
   "execution_count": 6,
   "metadata": {},
   "outputs": [],
   "source": [
    "## Distance Function\n",
    "def distance_euclid(pt1, pt2):\n",
    "    d = np.sqrt( ( ( pt1 - pt2 )**2).sum() )\n",
    "    return d\n",
    "\n",
    "## Manhattan Distance\n",
    "def manhattan_distance(pt1, pt2):\n",
    "    d = abs( (pt1 - pt2) ).sum()\n",
    "    return d"
   ]
  },
  {
   "cell_type": "code",
   "execution_count": 7,
   "metadata": {},
   "outputs": [
    {
     "name": "stdout",
     "output_type": "stream",
     "text": [
      "(array([ 0.,  1.]), array([314, 286]))\n"
     ]
    }
   ],
   "source": [
    "split = int(0.60*data.shape[0])\n",
    "\n",
    "train_x = data[:split, :2]\n",
    "train_y = data[ :split, -1 ]\n",
    "\n",
    "test_x = data[split:, :2]\n",
    "test_y = data[split:, -1]\n",
    "\n",
    "print np.unique( train_y, return_counts= True )\n"
   ]
  },
  {
   "cell_type": "code",
   "execution_count": 8,
   "metadata": {},
   "outputs": [],
   "source": [
    "def KNN(train_x, train_y, test_pt, k = 5):\n",
    "    vals = []\n",
    "    for ix in range(train_x.shape[0]):\n",
    "        d = distance_euclid(train_x[ix], test_pt)\n",
    "        vals.append([d, train_y[ix]])\n",
    "    sorted_vals = sorted(vals, key = lambda r:r[0])\n",
    "    sorted_vals = np.array(sorted_vals)[:k]\n",
    "    labels = sorted_vals[:,-1]\n",
    "    freq = np.unique(labels, return_counts=True)\n",
    "    ans = freq[0][ freq[1].argmax() ]\n",
    "    return ans"
   ]
  },
  {
   "cell_type": "code",
   "execution_count": 9,
   "metadata": {},
   "outputs": [
    {
     "name": "stdout",
     "output_type": "stream",
     "text": [
      "0.0\n"
     ]
    }
   ],
   "source": [
    "test_pt1 = np.array([2,2])\n",
    "ans = KNN(train_x,train_y,test_pt1,k=5)\n",
    "print ans"
   ]
  },
  {
   "cell_type": "code",
   "execution_count": 10,
   "metadata": {},
   "outputs": [],
   "source": [
    "def get_acc(train_x,train_y, test_x, test_y, kx = 5):\n",
    "    preds = []\n",
    "    for ix in range(test_x.shape[0]):\n",
    "        p = KNN(train_x,train_y,test_x[ix],k = kx)\n",
    "        preds.append(p)\n",
    "    preds = np.array(preds)\n",
    "    acc = 100*float( (preds == test_y).sum() )/ test_y.shape[0]\n",
    "    return acc"
   ]
  },
  {
   "cell_type": "code",
   "execution_count": 11,
   "metadata": {},
   "outputs": [],
   "source": [
    "print get_acc(train_x,train_y,test_x,test_y,kx = 5)"
   ]
  },
  {
   "cell_type": "code",
   "execution_count": 12,
   "metadata": {},
   "outputs": [],
   "source": [
    "import pandas as pd"
   ]
  },
  {
   "cell_type": "code",
   "execution_count": 13,
   "metadata": {},
   "outputs": [
    {
     "name": "stdout",
     "output_type": "stream",
     "text": [
      "(3000, 785)\n"
     ]
    }
   ],
   "source": [
    "df = pd.read_csv('/Users/suruchichopra/Desktop/Suransh/Machine Learning/fashion-mnist_train.csv')\n",
    "fashion_data = np.array(df)[:3000]\n",
    "print fashion_data.shape"
   ]
  },
  {
   "cell_type": "code",
   "execution_count": 14,
   "metadata": {},
   "outputs": [
    {
     "name": "stdout",
     "output_type": "stream",
     "text": [
      "(1800, 784)\n",
      "79.9166666667\n"
     ]
    }
   ],
   "source": [
    "split = int(0.60*fashion_data.shape[0])\n",
    "\n",
    "fashion_train_x = fashion_data[:split, 1:]\n",
    "fashion_train_y = fashion_data[ :split, 0 ]\n",
    "\n",
    "fashion_test_x = fashion_data[split: , 1: ]\n",
    "fashion_text_y = fashion_data[ split:, 0 ]\n",
    "\n",
    "print fashion_train_x.shape\n",
    "#print get_acc(fashion_train_x,fashion_train_y,fashion_test_x, fashion_text_y)"
   ]
  },
  {
   "cell_type": "code",
   "execution_count": 15,
   "metadata": {},
   "outputs": [],
   "source": [
    "import sklearn\n",
    "from sklearn.neighbors import KNeighborsClassifier"
   ]
  },
  {
   "cell_type": "code",
   "execution_count": 16,
   "metadata": {},
   "outputs": [
    {
     "name": "stdout",
     "output_type": "stream",
     "text": [
      "79.9166666667\n"
     ]
    }
   ],
   "source": [
    "neigh = KNeighborsClassifier(n_neighbors=5)\n",
    "neigh.fit(fashion_train_x,fashion_train_y)\n",
    "print(100*neigh.score(fashion_test_x,fashion_text_y))"
   ]
  }
 ],
 "metadata": {
  "kernelspec": {
   "display_name": "Python 2",
   "language": "python",
   "name": "python2"
  },
  "language_info": {
   "codemirror_mode": {
    "name": "ipython",
    "version": 2
   },
   "file_extension": ".py",
   "mimetype": "text/x-python",
   "name": "python",
   "nbconvert_exporter": "python",
   "pygments_lexer": "ipython2",
   "version": "2.7.14"
  }
 },
 "nbformat": 4,
 "nbformat_minor": 2
}
