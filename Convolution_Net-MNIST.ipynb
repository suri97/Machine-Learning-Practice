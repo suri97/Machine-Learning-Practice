{
 "cells": [
  {
   "cell_type": "code",
   "execution_count": 38,
   "metadata": {},
   "outputs": [],
   "source": [
    "import numpy as np\n",
    "from keras.utils import np_utils\n",
    "from keras.layers import Dense, Activation, Convolution2D, Flatten, Dropout, MaxPooling2D\n",
    "from keras.models import Sequential\n",
    "import pandas as pd"
   ]
  },
  {
   "cell_type": "code",
   "execution_count": 3,
   "metadata": {},
   "outputs": [
    {
     "name": "stdout",
     "output_type": "stream",
     "text": [
      "(4500, 785)\n"
     ]
    }
   ],
   "source": [
    "df = pd.read_csv('../DataSets/mnist_train.csv')\n",
    "data = df.values[:4500]\n",
    "print data.shape"
   ]
  },
  {
   "cell_type": "code",
   "execution_count": 30,
   "metadata": {},
   "outputs": [
    {
     "name": "stdout",
     "output_type": "stream",
     "text": [
      "(4500, 10)\n"
     ]
    }
   ],
   "source": [
    "X = data[:, 1:]/255.0\n",
    "y = data[:, 0]\n",
    "Y = np_utils.to_categorical(y)\n",
    "print Y.shape"
   ]
  },
  {
   "cell_type": "code",
   "execution_count": 31,
   "metadata": {},
   "outputs": [
    {
     "name": "stdout",
     "output_type": "stream",
     "text": [
      "(3600, 28, 28, 1)\n",
      "(900, 28, 28, 1)\n"
     ]
    }
   ],
   "source": [
    "split = int( (0.8*data.shape[0]) )\n",
    "X_train = X[:split].reshape( (-1, 28, 28, 1) ) #Spatial representation of data rather than vector -> Benefit of CNN\n",
    "X_test = X[split:].reshape( (-1,28,28,1) )\n",
    "Y_train = Y[:split]\n",
    "Y_test = Y[split:]\n",
    "\n",
    "print X_train.shape\n",
    "print X_test.shape"
   ]
  },
  {
   "cell_type": "code",
   "execution_count": 32,
   "metadata": {},
   "outputs": [
    {
     "name": "stdout",
     "output_type": "stream",
     "text": [
      "10\n"
     ]
    }
   ],
   "source": [
    "num_classes = np.unique( y ).size\n",
    "print num_classes"
   ]
  },
  {
   "cell_type": "code",
   "execution_count": 39,
   "metadata": {},
   "outputs": [],
   "source": [
    "model = Sequential()"
   ]
  },
  {
   "cell_type": "code",
   "execution_count": 40,
   "metadata": {},
   "outputs": [],
   "source": [
    "#Concolution Block 1\n",
    "model.add( Convolution2D(32, 3, 3, input_shape = (28,28,1) ) )\n",
    "model.add( Activation('relu') )\n",
    "## Here ( 26, 26, 32 )\n",
    "model.add( Convolution2D( 64,3,3 ) )\n",
    "model.add( Activation('relu') )\n",
    "## Here ( 24 , 24, 64 )\n",
    "model.add( MaxPooling2D( pool_size=(2,2) ) )\n",
    "## Here ( 12, 12, 64 )\n",
    "model.add( Convolution2D( 16, 3, 3 ) )\n",
    "model.add( Activation('relu') )\n",
    "## Here ( 10, 10, 16 )\n",
    "model.add( Flatten() )\n",
    "## Here (1600)\n",
    "model.add( Dropout(0.25) )\n",
    "model.add( Dense(num_classes) )\n",
    "## Here (10)\n",
    "model.add( Activation('softmax') )\n"
   ]
  },
  {
   "cell_type": "code",
   "execution_count": 41,
   "metadata": {},
   "outputs": [
    {
     "name": "stdout",
     "output_type": "stream",
     "text": [
      "____________________________________________________________________________________________________\n",
      "Layer (type)                     Output Shape          Param #     Connected to                     \n",
      "====================================================================================================\n",
      "convolution2d_11 (Convolution2D) (None, 26, 26, 32)    320         convolution2d_input_4[0][0]      \n",
      "____________________________________________________________________________________________________\n",
      "activation_13 (Activation)       (None, 26, 26, 32)    0           convolution2d_11[0][0]           \n",
      "____________________________________________________________________________________________________\n",
      "convolution2d_12 (Convolution2D) (None, 24, 24, 64)    18496       activation_13[0][0]              \n",
      "____________________________________________________________________________________________________\n",
      "activation_14 (Activation)       (None, 24, 24, 64)    0           convolution2d_12[0][0]           \n",
      "____________________________________________________________________________________________________\n",
      "maxpooling2d_4 (MaxPooling2D)    (None, 12, 12, 64)    0           activation_14[0][0]              \n",
      "____________________________________________________________________________________________________\n",
      "convolution2d_13 (Convolution2D) (None, 10, 10, 16)    9232        maxpooling2d_4[0][0]             \n",
      "____________________________________________________________________________________________________\n",
      "activation_15 (Activation)       (None, 10, 10, 16)    0           convolution2d_13[0][0]           \n",
      "____________________________________________________________________________________________________\n",
      "flatten_4 (Flatten)              (None, 1600)          0           activation_15[0][0]              \n",
      "____________________________________________________________________________________________________\n",
      "dropout_1 (Dropout)              (None, 1600)          0           flatten_4[0][0]                  \n",
      "____________________________________________________________________________________________________\n",
      "dense_4 (Dense)                  (None, 10)            16010       dropout_1[0][0]                  \n",
      "____________________________________________________________________________________________________\n",
      "activation_16 (Activation)       (None, 10)            0           dense_4[0][0]                    \n",
      "====================================================================================================\n",
      "Total params: 44,058\n",
      "Trainable params: 44,058\n",
      "Non-trainable params: 0\n",
      "____________________________________________________________________________________________________\n"
     ]
    }
   ],
   "source": [
    "model.summary()"
   ]
  },
  {
   "cell_type": "code",
   "execution_count": 42,
   "metadata": {},
   "outputs": [],
   "source": [
    "model.compile( optimizer='adam', loss='categorical_crossentropy', metrics=['accuracy'] )"
   ]
  },
  {
   "cell_type": "code",
   "execution_count": 43,
   "metadata": {},
   "outputs": [
    {
     "name": "stdout",
     "output_type": "stream",
     "text": [
      "Train on 3600 samples, validate on 900 samples\n",
      "Epoch 1/10\n",
      "3600/3600 [==============================] - 15s - loss: 0.5962 - acc: 0.8117 - val_loss: 0.2001 - val_acc: 0.9433\n",
      "Epoch 2/10\n",
      "3600/3600 [==============================] - 14s - loss: 0.1889 - acc: 0.9442 - val_loss: 0.1451 - val_acc: 0.9522\n",
      "Epoch 3/10\n",
      "3600/3600 [==============================] - 14s - loss: 0.1133 - acc: 0.9675 - val_loss: 0.1239 - val_acc: 0.9589\n",
      "Epoch 4/10\n",
      "3600/3600 [==============================] - 14s - loss: 0.0870 - acc: 0.9731 - val_loss: 0.1099 - val_acc: 0.9633\n",
      "Epoch 5/10\n",
      "3600/3600 [==============================] - 14s - loss: 0.0694 - acc: 0.9783 - val_loss: 0.1336 - val_acc: 0.9578\n",
      "Epoch 6/10\n",
      "3600/3600 [==============================] - 14s - loss: 0.0509 - acc: 0.9842 - val_loss: 0.1149 - val_acc: 0.9678\n",
      "Epoch 7/10\n",
      "3600/3600 [==============================] - 15s - loss: 0.0381 - acc: 0.9847 - val_loss: 0.1357 - val_acc: 0.9622\n",
      "Epoch 8/10\n",
      "3600/3600 [==============================] - 14s - loss: 0.0338 - acc: 0.9886 - val_loss: 0.1816 - val_acc: 0.9500\n",
      "Epoch 9/10\n",
      "3600/3600 [==============================] - 15s - loss: 0.0327 - acc: 0.9892 - val_loss: 0.1403 - val_acc: 0.9711\n",
      "Epoch 10/10\n",
      "3600/3600 [==============================] - 14s - loss: 0.0235 - acc: 0.9906 - val_loss: 0.1314 - val_acc: 0.9733\n"
     ]
    },
    {
     "data": {
      "text/plain": [
       "<keras.callbacks.History at 0x117665f10>"
      ]
     },
     "execution_count": 43,
     "metadata": {},
     "output_type": "execute_result"
    }
   ],
   "source": [
    "model.fit( X_train, Y_train, validation_data=( X_test, Y_test ), batch_size=10, nb_epoch=10 )"
   ]
  }
 ],
 "metadata": {
  "kernelspec": {
   "display_name": "Python 2",
   "language": "python",
   "name": "python2"
  },
  "language_info": {
   "codemirror_mode": {
    "name": "ipython",
    "version": 2
   },
   "file_extension": ".py",
   "mimetype": "text/x-python",
   "name": "python",
   "nbconvert_exporter": "python",
   "pygments_lexer": "ipython2",
   "version": "2.7.14"
  }
 },
 "nbformat": 4,
 "nbformat_minor": 2
}
