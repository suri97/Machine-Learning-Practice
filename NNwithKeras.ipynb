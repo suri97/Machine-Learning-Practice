{
 "cells": [
  {
   "cell_type": "code",
   "execution_count": 75,
   "metadata": {},
   "outputs": [],
   "source": [
    "import numpy as np\n",
    "import matplotlib.pyplot as plt\n",
    "%matplotlib inline\n",
    "import pandas as pd\n",
    "from keras.layers import Dense, Activation\n",
    "from keras.models import Sequential\n",
    "from keras.utils import np_utils"
   ]
  },
  {
   "cell_type": "code",
   "execution_count": 76,
   "metadata": {},
   "outputs": [
    {
     "name": "stdout",
     "output_type": "stream",
     "text": [
      "(60000, 785)\n"
     ]
    }
   ],
   "source": [
    "df = pd.read_csv('fashion-mnist_train.csv')\n",
    "#df.head( n = 6 )\n",
    "values = df.values\n",
    "print values.shape"
   ]
  },
  {
   "cell_type": "code",
   "execution_count": 84,
   "metadata": {},
   "outputs": [
    {
     "name": "stdout",
     "output_type": "stream",
     "text": [
      "(30000, 785)\n",
      "(30000, 784) (30000,)\n"
     ]
    }
   ],
   "source": [
    "data = values[:30000]\n",
    "print data.shape\n",
    "\n",
    "X_values = data[:, 1:]\n",
    "Y_values = data[ :, 0 ]\n",
    "\n",
    "print X_values.shape, Y_values.shape\n"
   ]
  },
  {
   "cell_type": "code",
   "execution_count": 85,
   "metadata": {},
   "outputs": [
    {
     "name": "stdout",
     "output_type": "stream",
     "text": [
      "(array([0, 1, 2, 3, 4, 5, 6, 7, 8, 9]), array([3037, 3002, 2992, 3013, 2900, 2982, 3038, 3056, 2993, 2987]))\n",
      "(30000, 10)\n"
     ]
    }
   ],
   "source": [
    "print np.unique( Y_values,return_counts=True )\n",
    "Y_values = np_utils.to_categorical( Y_values )\n",
    "print Y_values.shape"
   ]
  },
  {
   "cell_type": "code",
   "execution_count": 86,
   "metadata": {},
   "outputs": [
    {
     "name": "stdout",
     "output_type": "stream",
     "text": [
      "18000\n"
     ]
    }
   ],
   "source": [
    "split = int(0.60*data.shape[0])\n",
    "print split\n",
    "\n",
    "fashion_train_x = X_values[:split]\n",
    "fashion_train_y = Y_values[:split]\n",
    "fashion_test_x = X_values[split:]\n",
    "fashion_test_y = Y_values[split:]"
   ]
  },
  {
   "cell_type": "code",
   "execution_count": 87,
   "metadata": {},
   "outputs": [],
   "source": [
    "fashion_train_x = fashion_train_x/255.0\n",
    "fashion_test_x = fashion_test_x/255.0"
   ]
  },
  {
   "cell_type": "code",
   "execution_count": 88,
   "metadata": {},
   "outputs": [
    {
     "name": "stdout",
     "output_type": "stream",
     "text": [
      "____________________________________________________________________________________________________\n",
      "Layer (type)                     Output Shape          Param #     Connected to                     \n",
      "====================================================================================================\n",
      "dense_23 (Dense)                 (None, 128)           100480      dense_input_10[0][0]             \n",
      "____________________________________________________________________________________________________\n",
      "activation_23 (Activation)       (None, 128)           0           dense_23[0][0]                   \n",
      "____________________________________________________________________________________________________\n",
      "dense_24 (Dense)                 (None, 32)            4128        activation_23[0][0]              \n",
      "____________________________________________________________________________________________________\n",
      "activation_24 (Activation)       (None, 32)            0           dense_24[0][0]                   \n",
      "____________________________________________________________________________________________________\n",
      "dense_25 (Dense)                 (None, 10)            330         activation_24[0][0]              \n",
      "____________________________________________________________________________________________________\n",
      "activation_25 (Activation)       (None, 10)            0           dense_25[0][0]                   \n",
      "====================================================================================================\n",
      "Total params: 104,938\n",
      "Trainable params: 104,938\n",
      "Non-trainable params: 0\n",
      "____________________________________________________________________________________________________\n"
     ]
    }
   ],
   "source": [
    "model = Sequential()\n",
    "model.add(Dense(128, input_shape=(784,)))\n",
    "model.add(Activation('relu'))\n",
    "\n",
    "model.add( Dense(32) )\n",
    "model.add(Activation('relu'))\n",
    "\n",
    "model.add( Dense(10) )\n",
    "model.add(Activation('softmax'))\n",
    "\n",
    "model.summary()"
   ]
  },
  {
   "cell_type": "code",
   "execution_count": 89,
   "metadata": {},
   "outputs": [],
   "source": [
    "model.compile(optimizer='adam', loss='categorical_crossentropy', metrics=['accuracy'])"
   ]
  },
  {
   "cell_type": "code",
   "execution_count": null,
   "metadata": {},
   "outputs": [
    {
     "name": "stdout",
     "output_type": "stream",
     "text": [
      "Train on 18000 samples, validate on 12000 samples\n",
      "Epoch 1/20\n",
      "5s - loss: 0.6109 - acc: 0.7860 - val_loss: 0.5058 - val_acc: 0.8251\n",
      "Epoch 2/20\n",
      "4s - loss: 0.4429 - acc: 0.8409 - val_loss: 0.4255 - val_acc: 0.8466\n",
      "Epoch 3/20\n",
      "4s - loss: 0.3934 - acc: 0.8578 - val_loss: 0.4016 - val_acc: 0.8525\n",
      "Epoch 4/20\n",
      "4s - loss: 0.3575 - acc: 0.8680 - val_loss: 0.4554 - val_acc: 0.8347\n",
      "Epoch 5/20\n",
      "4s - loss: 0.3358 - acc: 0.8751 - val_loss: 0.3771 - val_acc: 0.8643\n",
      "Epoch 6/20\n",
      "4s - loss: 0.3174 - acc: 0.8795 - val_loss: 0.3866 - val_acc: 0.8632\n",
      "Epoch 7/20\n",
      "4s - loss: 0.3021 - acc: 0.8858 - val_loss: 0.3877 - val_acc: 0.8562\n",
      "Epoch 8/20\n",
      "5s - loss: 0.2907 - acc: 0.8901 - val_loss: 0.3594 - val_acc: 0.8723\n",
      "Epoch 9/20\n",
      "4s - loss: 0.2733 - acc: 0.8995 - val_loss: 0.3912 - val_acc: 0.8631\n",
      "Epoch 10/20\n",
      "4s - loss: 0.2615 - acc: 0.9010 - val_loss: 0.4155 - val_acc: 0.8531\n",
      "Epoch 11/20\n",
      "4s - loss: 0.2579 - acc: 0.9036 - val_loss: 0.3662 - val_acc: 0.8728\n",
      "Epoch 12/20\n",
      "4s - loss: 0.2399 - acc: 0.9097 - val_loss: 0.3864 - val_acc: 0.8693\n",
      "Epoch 13/20\n",
      "4s - loss: 0.2372 - acc: 0.9093 - val_loss: 0.3915 - val_acc: 0.8678\n",
      "Epoch 14/20\n",
      "4s - loss: 0.2272 - acc: 0.9149 - val_loss: 0.4071 - val_acc: 0.8632\n",
      "Epoch 15/20\n",
      "4s - loss: 0.2177 - acc: 0.9177 - val_loss: 0.4538 - val_acc: 0.8474\n",
      "Epoch 16/20\n"
     ]
    }
   ],
   "source": [
    "model.fit(fashion_train_x, fashion_train_y, batch_size=16, nb_epoch=20, verbose=2, validation_data=(fashion_test_x, fashion_test_y))"
   ]
  }
 ],
 "metadata": {
  "kernelspec": {
   "display_name": "Python 2",
   "language": "python",
   "name": "python2"
  },
  "language_info": {
   "codemirror_mode": {
    "name": "ipython",
    "version": 2
   },
   "file_extension": ".py",
   "mimetype": "text/x-python",
   "name": "python",
   "nbconvert_exporter": "python",
   "pygments_lexer": "ipython2",
   "version": "2.7.14"
  }
 },
 "nbformat": 4,
 "nbformat_minor": 2
}
